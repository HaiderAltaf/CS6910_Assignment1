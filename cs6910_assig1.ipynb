{
  "nbformat": 4,
  "nbformat_minor": 0,
  "metadata": {
    "colab": {
      "provenance": [],
      "authorship_tag": "ABX9TyMTXcLanboWK4mXXYpBYdUb",
      "include_colab_link": true
    },
    "kernelspec": {
      "name": "python3",
      "display_name": "Python 3"
    },
    "language_info": {
      "name": "python"
    }
  },
  "cells": [
    {
      "cell_type": "markdown",
      "metadata": {
        "id": "view-in-github",
        "colab_type": "text"
      },
      "source": [
        "<a href=\"https://colab.research.google.com/github/HaiderAltaf/Gradient-Descent-Algorithm-and-its-variants/blob/main/cs6910_assig1.ipynb\" target=\"_parent\"><img src=\"https://colab.research.google.com/assets/colab-badge.svg\" alt=\"Open In Colab\"/></a>"
      ]
    },
    {
      "cell_type": "markdown",
      "source": [
        "# Question 1\n",
        "Download the fashion-MNIST dataset and plot 1 sample image for each class as shown in the grid below. Use from keras.datasets import fashion_mnist for getting the fashion mnist dataset."
      ],
      "metadata": {
        "id": "-5cMQpFel2pj"
      }
    },
    {
      "cell_type": "code",
      "execution_count": 1,
      "metadata": {
        "id": "O_-ut5eWlniQ"
      },
      "outputs": [],
      "source": [
        "import numpy as np\n",
        "import pandas as pd\n",
        "from keras.datasets import fashion_mnist"
      ]
    },
    {
      "cell_type": "code",
      "source": [
        "import matplotlib.pyplot as plt\n",
        "import math"
      ],
      "metadata": {
        "id": "-cBlCFC1qNeZ"
      },
      "execution_count": 2,
      "outputs": []
    },
    {
      "cell_type": "markdown",
      "source": [
        "importing the Fashion-MNIST Dataset"
      ],
      "metadata": {
        "id": "dzz6U3Vpl8Nq"
      }
    },
    {
      "cell_type": "code",
      "source": [
        "dataset = fashion_mnist.load_data()"
      ],
      "metadata": {
        "id": "gKyKHAvJmEaJ",
        "colab": {
          "base_uri": "https://localhost:8080/"
        },
        "outputId": "96d302a8-dc14-42f9-df76-30caa2e0b971"
      },
      "execution_count": 3,
      "outputs": [
        {
          "output_type": "stream",
          "name": "stdout",
          "text": [
            "Downloading data from https://storage.googleapis.com/tensorflow/tf-keras-datasets/train-labels-idx1-ubyte.gz\n",
            "29515/29515 [==============================] - 0s 0us/step\n",
            "Downloading data from https://storage.googleapis.com/tensorflow/tf-keras-datasets/train-images-idx3-ubyte.gz\n",
            "26421880/26421880 [==============================] - 0s 0us/step\n",
            "Downloading data from https://storage.googleapis.com/tensorflow/tf-keras-datasets/t10k-labels-idx1-ubyte.gz\n",
            "5148/5148 [==============================] - 0s 0us/step\n",
            "Downloading data from https://storage.googleapis.com/tensorflow/tf-keras-datasets/t10k-images-idx3-ubyte.gz\n",
            "4422102/4422102 [==============================] - 0s 0us/step\n"
          ]
        }
      ]
    },
    {
      "cell_type": "markdown",
      "source": [
        "separating training(60,000 images) and testing(10,000) image data"
      ],
      "metadata": {
        "id": "5HdIEqNLprRH"
      }
    },
    {
      "cell_type": "code",
      "source": [
        "(x_train, y_train), (x_test, y_test) = dataset\n",
        "X_train = x_train.reshape(x_train.shape[0], x_train.shape[1]*x_train.shape[2] )/255\n",
        "X_test = x_test.reshape(x_test.shape[0], x_test.shape[1]*x_test.shape[2])/255"
      ],
      "metadata": {
        "id": "_VViAXQ4mfc5"
      },
      "execution_count": 4,
      "outputs": []
    },
    {
      "cell_type": "markdown",
      "source": [
        "Separating 10% from training data for validation"
      ],
      "metadata": {
        "id": "sA6OYRtpzjKW"
      }
    },
    {
      "cell_type": "code",
      "source": [
        "validation_size = int(len(X_train)*0.1)\n",
        "\n",
        "# randomly shuffle the indices of the data\n",
        "shuffled_indices = np.random.permutation(len(X_train))\n",
        "\n",
        "# split the shuffled data into training and validation sets\n",
        "train_indices, validation_indices = shuffled_indices[:-validation_size], shuffled_indices[-validation_size:]\n",
        "X_train, X_validation = X_train[train_indices], X_train[validation_indices]\n",
        "y_train, y_validation = y_train[train_indices], y_train[validation_indices]"
      ],
      "metadata": {
        "id": "BKkp-zpWwUna"
      },
      "execution_count": 5,
      "outputs": []
    },
    {
      "cell_type": "markdown",
      "source": [
        "Number of classes in data"
      ],
      "metadata": {
        "id": "O2t1ke4Z5Mvc"
      }
    },
    {
      "cell_type": "markdown",
      "source": [
        " plot 1 sample image for each class "
      ],
      "metadata": {
        "id": "UCyEEtXCqXAc"
      }
    },
    {
      "cell_type": "code",
      "source": [
        "class_names = ['T-shirt/top', 'Trouser', 'Pullover', 'Dress', 'Coat', 'Sandal',\n",
        "               'Shirt', 'Sneaker', 'Bag', 'Ankle boot']\n",
        "          \n",
        "no_of_classes = len(class_names)\n",
        "fig, axes = plt.subplots(1, no_of_classes, figsize=(20,20))\n",
        "\n",
        "for i in range(no_of_classes):\n",
        "\n",
        "    # Find the index of the first image of each class\n",
        "    idx = np.where(y_train == i)[0][0]\n",
        "    \n",
        "    # Plot the image\n",
        "    axes[i].imshow(x_train[idx].reshape(28,28), cmap='gray')\n",
        "    axes[i].set_title(class_names[i])\n",
        "    axes[i].axis('off')\n",
        "\n",
        "plt.show()\n",
        "\n",
        "\n"
      ],
      "metadata": {
        "colab": {
          "base_uri": "https://localhost:8080/",
          "height": 141
        },
        "id": "yTyYtOi2skO4",
        "outputId": "9f8a471e-993b-48be-c1c2-10b0fa093a64"
      },
      "execution_count": null,
      "outputs": [
        {
          "output_type": "display_data",
          "data": {
            "text/plain": [
              "<Figure size 1440x1440 with 10 Axes>"
            ],
            "image/png": "[encoded data removed]"
          },
          "metadata": {
            "needs_background": "light"
          }
        }
      ]
    },
    {
      "cell_type": "code",
      "source": [
        "class_names = ['T-shirt/top', 'Trouser', 'Pullover', 'Dress', 'Coat', 'Sandal',\n",
        "               'Shirt', 'Sneaker', 'Bag', 'Ankle boot']\n",
        "\n",
        "# Plot images in rows of 5\n",
        "no_of_classes = len(class_names)\n",
        "num_rows = 2\n",
        "num_cols = 5\n",
        "num_images = num_rows * num_cols\n",
        "\n",
        "fig, axes = plt.subplots(num_rows, num_cols, figsize=(20,8))\n",
        "\n",
        "for i in range(num_images):\n",
        "    # Calculate the row and column index of the current image\n",
        "    row = i // num_cols\n",
        "    col = i % num_cols\n",
        "    \n",
        "    # Find the index of the ith image of each class\n",
        "    idx = np.where(y_train == i % no_of_classes)[0][i // no_of_classes]\n",
        "    \n",
        "    # Plot the image\n",
        "    axes[row, col].imshow(x_train[idx].reshape(28,28), cmap='gray')\n",
        "    axes[row, col].set_title(class_names[i % no_of_classes])\n",
        "    axes[row, col].axis('off')\n",
        "\n",
        "plt.show()"
      ],
      "metadata": {
        "colab": {
          "base_uri": "https://localhost:8080/",
          "height": 477
        },
        "id": "-MWYcSsvqddp",
        "outputId": "9e5ec0ce-9878-4a93-e083-a59495a0e646"
      },
      "execution_count": null,
      "outputs": [
        {
          "output_type": "display_data",
          "data": {
            "text/plain": [
              "<Figure size 1440x576 with 10 Axes>"
            ],
            "image/png": "[encoded data removed]"
          },
          "metadata": {
            "needs_background": "light"
          }
        }
      ]
    },
    {
      "cell_type": "markdown",
      "source": [
        "# Question 2 \n",
        "\n",
        "Implement a feedforward neural network which takes images from the fashion-mnist data as input and outputs a probability distribution over the 10 classes."
      ],
      "metadata": {
        "id": "ZlUA82ekuTqc"
      }
    },
    {
      "cell_type": "code",
      "source": [
        "L = int(input(\"Enter the number of Hidden + outer layer: \"))"
      ],
      "metadata": {
        "id": "_LP2q-Of4ApX",
        "colab": {
          "base_uri": "https://localhost:8080/"
        },
        "outputId": "79834338-cea7-4ebc-d077-fbe480e46683"
      },
      "execution_count": 6,
      "outputs": [
        {
          "name": "stdout",
          "output_type": "stream",
          "text": [
            "Enter the number of Hidden + outer layer: 3\n"
          ]
        }
      ]
    },
    {
      "cell_type": "code",
      "source": [
        "n = int(input(\"Enter the numbers of neuron in each hidden layer: \"))"
      ],
      "metadata": {
        "id": "H8IheuiD4Rv3",
        "colab": {
          "base_uri": "https://localhost:8080/"
        },
        "outputId": "314eac82-dad0-4491-e6f5-75abfd6645cc"
      },
      "execution_count": 7,
      "outputs": [
        {
          "name": "stdout",
          "output_type": "stream",
          "text": [
            "Enter the numbers of neuron in each hidden layer: 32\n"
          ]
        }
      ]
    },
    {
      "cell_type": "code",
      "source": [
        "no_of_classes = len(np.unique(y_train))"
      ],
      "metadata": {
        "id": "3JFVNBN-4gB0"
      },
      "execution_count": 8,
      "outputs": []
    },
    {
      "cell_type": "code",
      "source": [
        "choice = int(input(\"For random weights initialisation enter 1 and for xavier enter 2: \"))"
      ],
      "metadata": {
        "colab": {
          "base_uri": "https://localhost:8080/"
        },
        "id": "K9Y8casj40uH",
        "outputId": "9b28aa0d-0253-46b6-b304-6b9f48b12d55"
      },
      "execution_count": 9,
      "outputs": [
        {
          "name": "stdout",
          "output_type": "stream",
          "text": [
            "For random weights initialisation enter 1 and for xavier enter 2: 1\n"
          ]
        }
      ]
    },
    {
      "cell_type": "code",
      "source": [
        "def weights(choice, n, L, X_train, no_of_classes):\n",
        "  \n",
        "  Weights = []\n",
        "  np.random.seed(0)\n",
        "\n",
        "  if choice ==1:\n",
        "    temp = np.random.rand(len(X_train[0]), n)\n",
        "    Weights.append(temp)\n",
        "\n",
        "    for i in range(1, L-1):\n",
        "      temp = np.random.rand(n, n)\n",
        "      Weights.append(temp)\n",
        "\n",
        "    temp = np.random.rand(n, no_of_classes)\n",
        "    Weights.append(temp)\n",
        "\n",
        "  if choice ==2:\n",
        "    scale = 1/max(1, (2+2)/2 )\n",
        "    limit = math.sqrt(3*scale)\n",
        "\n",
        "    temp = np.random.uniform(-limit, limit, size=(len(X_train[0]),n)) \n",
        "    Weights.append(temp)\n",
        "    for i in range(1, L-1):\n",
        "      temp  = np.random.uniform(-limit, limit, size=(n,n))\n",
        "      Weights.append(temp)\n",
        "\n",
        "    temp = np.random.uniform(-limit, limit, size=(n, no_of_classes)) \n",
        "    Weights.append(temp)\n",
        "\n",
        "  if choice ==3:\n",
        "    temp = np.zeros((len(X_train[0]), n))\n",
        "    Weights.append(temp)\n",
        "\n",
        "    for i in range(1, L-1):\n",
        "      temp = np.zeros((n, n))\n",
        "      Weights.append(temp)\n",
        "\n",
        "    temp = np.zeros((n, no_of_classes))\n",
        "    Weights.append(temp)\n",
        "\n",
        "  \n",
        "  return Weights\n",
        "\n"
      ],
      "metadata": {
        "id": "o4pDXaK65aNO"
      },
      "execution_count": 10,
      "outputs": []
    },
    {
      "cell_type": "code",
      "source": [
        "def biases(choice, n, L, y_train, no_of_classes):\n",
        "  \n",
        "  bias = []\n",
        "  np.random.seed(0)\n",
        "\n",
        "  if choice ==1:\n",
        "    for i in range(L-1):\n",
        "      temp = np.random.rand(n)  # for schochastic GD\n",
        "      #temp = np.random.rand(len(y_train),n)  # for Vanilla GD\n",
        "      bias.append(temp)\n",
        "    \n",
        "    temp = np.random.rand(no_of_classes)   # for schochastic GD\n",
        "    #temp = np.random.rand(len(y_train), no_of_classes)   # for Vanilla GD\n",
        "    bias.append(temp)\n",
        "\n",
        "  if choice ==2:\n",
        "    scale = 1/max(1, (2+2)/2 )\n",
        "    limit = math.sqrt(3*scale)\n",
        "    for i in range(L-1):\n",
        "      temp  = np.random.uniform(-limit, limit, size=(n))   # for schochastic GD\n",
        "      #temp  = np.random.uniform(-limit, limit, size=(len(y_train),n))  # for Vanilla GD\n",
        "      bias.append(temp)\n",
        "\n",
        "    temp = np.random.uniform(-limit, limit, size=(no_of_classes))   # for schochastic GD\n",
        "    #temp = np.random.uniform(-limit, limit, size=(len(y_train),no_of_classes)) # for Vanilla GD\n",
        "    bias.append(temp)\n",
        "\n",
        "  if choice ==3:\n",
        "    for i in range(L-1):\n",
        "      temp = np.zeros(n)\n",
        "      bias.append(temp)\n",
        "\n",
        "    temp = np.zeros(no_of_classes)\n",
        "    bias.append(temp)\n",
        "\n",
        "  \n",
        "  return bias\n"
      ],
      "metadata": {
        "id": "Mp2HVC8eUEvK"
      },
      "execution_count": 11,
      "outputs": []
    },
    {
      "cell_type": "code",
      "source": [
        "Weights = weights(choice, n, L, X_train, no_of_classes)"
      ],
      "metadata": {
        "id": "0Ki8Z7zdZE8g"
      },
      "execution_count": 172,
      "outputs": []
    },
    {
      "cell_type": "code",
      "source": [
        "bias = biases(choice, n, L, y_train, no_of_classes)"
      ],
      "metadata": {
        "id": "bNE8AXdi7fB1"
      },
      "execution_count": 173,
      "outputs": []
    },
    {
      "cell_type": "markdown",
      "source": [
        "Activation Functions"
      ],
      "metadata": {
        "id": "SNe2k9o5fJCZ"
      }
    },
    {
      "cell_type": "code",
      "source": [
        "def sigmoid(a):\n",
        "  #a = np.float128(a)\n",
        "  return 1/(1+np.exp(-a))\n",
        "\n",
        "def tanh(a):\n",
        "  return (np.exp(a)-np.exp(-a))/(np.exp(a)+np.exp(-a))\n",
        "\n",
        "def ReLu(a):\n",
        "  i=0\n",
        "  Max = 0\n",
        "  for ele in a:\n",
        "    a[i] = max(0,ele)\n",
        "    Max = max(Max, a[i])\n",
        "    i+=1\n",
        "  #   j=0\n",
        "  #   for num in ele:\n",
        "\n",
        "  #     a[i][j] = max(0,num)\n",
        "  #     j+=1\n",
        "  #   i+=1\n",
        "  return a/Max\n",
        "\n",
        "def softmax(a):\n",
        "  # temp = np.zeros_like(a)\n",
        "  # for i in range(len(temp)):\n",
        "  #   temp[i] = np.float128(a[i])\n",
        "  #exp_logits = np.exp(a)\n",
        "  return np.exp(a)/np.sum(np.exp(a))   \n",
        "  \n",
        "def der_sigmoid(a):\n",
        "  return sigmoid(a)*(1-sigmoid(a))\n",
        "\n",
        "def der_tanh(a):\n",
        "  return 1-(tanh(a)*tanh(a))\n",
        "\n",
        "def der_ReLu(a):\n",
        "\n",
        "  # it will create a matrix of same dimension as of a.\n",
        "  gradient = np.zeros_like(a)  \n",
        "  # sets the entries of gradient to 1 where the corresponding entries of x>=0\n",
        "  gradient[a >= 0] = 1\n",
        "  return gradient"
      ],
      "metadata": {
        "id": "zQeYcLR3eZXr"
      },
      "execution_count": 185,
      "outputs": []
    },
    {
      "cell_type": "markdown",
      "source": [
        "Forward Propagation"
      ],
      "metadata": {
        "id": "MRsgs5EJypw4"
      }
    },
    {
      "cell_type": "code",
      "source": [
        "a = np.dot(X_train[0], Weights[0]) + bias[0]"
      ],
      "metadata": {
        "id": "8eKpiM1Wy5Vo"
      },
      "execution_count": 176,
      "outputs": []
    },
    {
      "cell_type": "code",
      "source": [
        "h = ReLu(a)"
      ],
      "metadata": {
        "id": "woHvxxNkzEWD"
      },
      "execution_count": 179,
      "outputs": []
    },
    {
      "cell_type": "code",
      "source": [
        "h"
      ],
      "metadata": {
        "colab": {
          "base_uri": "https://localhost:8080/"
        },
        "id": "OjzOX2SQDhKN",
        "outputId": "0dbf87f8-6415-4ba3-d1d7-975666535b6f"
      },
      "execution_count": 180,
      "outputs": [
        {
          "output_type": "execute_result",
          "data": {
            "text/plain": [
              "array([0.97081327, 0.91036207, 0.90933616, 0.98002625, 0.93246296,\n",
              "       0.93331949, 0.94364305, 0.93648767, 0.96660203, 0.95739357,\n",
              "       0.95293556, 0.981421  , 0.98480693, 0.9968412 , 0.92048744,\n",
              "       0.93072126, 0.94272849, 0.97471709, 0.96250636, 0.93374974,\n",
              "       0.91227207, 0.96257579, 0.94624035, 1.        , 0.97268328,\n",
              "       0.94546672, 0.98668272, 0.96692143, 0.96805469, 0.97923773,\n",
              "       0.93708058, 0.96306051])"
            ]
          },
          "metadata": {},
          "execution_count": 180
        }
      ]
    },
    {
      "cell_type": "code",
      "source": [
        "a = np.dot(h, Weights[1]) + bias[1]"
      ],
      "metadata": {
        "id": "Pv3iCSQOzIem"
      },
      "execution_count": 181,
      "outputs": []
    },
    {
      "cell_type": "code",
      "source": [
        "h = ReLu(a)"
      ],
      "metadata": {
        "id": "M0IJm5de0xhJ"
      },
      "execution_count": 182,
      "outputs": []
    },
    {
      "cell_type": "code",
      "source": [
        "a = np.dot(h, Weights[2]) + bias[2]"
      ],
      "metadata": {
        "id": "ilmPqysa0oeV"
      },
      "execution_count": 183,
      "outputs": []
    },
    {
      "cell_type": "code",
      "source": [
        "softmax(a)"
      ],
      "metadata": {
        "colab": {
          "base_uri": "https://localhost:8080/"
        },
        "id": "n7iLnwPX7OeV",
        "outputId": "da3eef98-576b-4ae6-9c8a-080709c81c43"
      },
      "execution_count": 186,
      "outputs": [
        {
          "output_type": "execute_result",
          "data": {
            "text/plain": [
              "array([0.10556009, 0.0052391 , 0.01484643, 0.07180335, 0.08670616,\n",
              "       0.01338796, 0.08056007, 0.12420853, 0.41547525, 0.08221307])"
            ]
          },
          "metadata": {},
          "execution_count": 186
        }
      ]
    },
    {
      "cell_type": "code",
      "source": [
        "def forward_propagation(Weights, bias, h, L):\n",
        "  \n",
        "  a_out = []\n",
        "  h_out = []\n",
        "  h_out.append(h)\n",
        "  \n",
        "  ## for hidden layers\n",
        "  for k in range(L-1):\n",
        "    a = np.dot(h, Weights[k]) + bias[k]\n",
        "    a_out.append(a)\n",
        "    ## default activation function is sigmoid \n",
        "    h = ReLu(a)\n",
        "    h_out.append(h)\n",
        "\n",
        "  ## In outer layer softmax function\n",
        "  a = np.dot(h, Weights[L-1]) + bias[L-1]\n",
        "  a_out.append(a)\n",
        "  y_dash = softmax(a)\n",
        "  \n",
        "\n",
        "  return a_out, h_out, y_dash\n"
      ],
      "metadata": {
        "id": "jOypoQjEt81D"
      },
      "execution_count": 26,
      "outputs": []
    },
    {
      "cell_type": "code",
      "source": [
        "def forward_propagation_Vanilla(Weights, bias, h, L):\n",
        "  \n",
        "  a_out = []\n",
        "  h_out = []\n",
        "  h_out.append(h)\n",
        "  \n",
        "  ## for hidden layers\n",
        "  for k in range(L-1):\n",
        "    a = np.dot(h, Weights[k]) + bias[k]\n",
        "    a_out.append(a)\n",
        "    ## default activation function is sigmoid \n",
        "    h = sigmoid(a)\n",
        "    h_out.append(h)\n",
        "\n",
        "  ## In outer layer softmax function\n",
        "  a = np.dot(h, Weights[L-1]) + bias[L-1]\n",
        "  a_out.append(a)\n",
        "  y_dash = softmax(a)\n",
        "  \n",
        "\n",
        "  return a_out, h_out, y_dash\n"
      ],
      "metadata": {
        "id": "Nfn8EkX0hoEN"
      },
      "execution_count": null,
      "outputs": []
    },
    {
      "cell_type": "code",
      "source": [
        "a_out, h_out, y_dash = forward_propagation(Weights, bias, X_train[0], L)"
      ],
      "metadata": {
        "id": "PFP_UdWPWat2"
      },
      "execution_count": null,
      "outputs": []
    },
    {
      "cell_type": "code",
      "source": [
        "h_out[2].shape, y_dash.shape, len(X_train)"
      ],
      "metadata": {
        "colab": {
          "base_uri": "https://localhost:8080/"
        },
        "id": "n17pB2H3W9VC",
        "outputId": "fef2d066-4f06-4a29-eee7-e47c4b7790e3"
      },
      "execution_count": null,
      "outputs": [
        {
          "output_type": "execute_result",
          "data": {
            "text/plain": [
              "((16,), (54000, 10), 54000)"
            ]
          },
          "metadata": {},
          "execution_count": 53
        }
      ]
    },
    {
      "cell_type": "markdown",
      "source": [
        "Backward propagation"
      ],
      "metadata": {
        "id": "z2DZ8Ewi05Nn"
      }
    },
    {
      "cell_type": "code",
      "source": [
        "def backward_propagation(a_out, h_out, y_train, y_dash, Weights, L):\n",
        "\n",
        "  delta_W = [0]*L\n",
        "  delta_b = [0]*L\n",
        "\n",
        "  \n",
        "  ## change each y_train into an array of 10 values\n",
        "  y_train_modified = np.zeros(10)\n",
        "  y_train_modified[y_train] = 1\n",
        "    \n",
        "  output_gradient = -(y_train_modified - y_dash)\n",
        "\n",
        "  for k in range(L, 0, -1):\n",
        "\n",
        "    ## compute gradients w.r.t parameters\n",
        "    W_gradient = np.dot(h_out[k-1].reshape(len(h_out[k-1]),1), output_gradient.reshape(1, len(output_gradient)))\n",
        "    delta_W[k-1] = W_gradient\n",
        "\n",
        "    b_gradients = output_gradient\n",
        "    delta_b[k-1] = b_gradients\n",
        "   \n",
        "    if k==1:\n",
        "      continue\n",
        "    ## compute gradients w.r.t layer below\n",
        "    weight = Weights[k-1]\n",
        "    h_gradient = np.dot(output_gradient, weight.T)\n",
        "\n",
        "    ## compute the gradient of pre activation layer\n",
        "    output_gradient = np.multiply(h_gradient, der_ReLu(a_out[k-2]))\n",
        "\n",
        "  return delta_W, delta_b\n",
        "\n"
      ],
      "metadata": {
        "id": "Z6s4dnd6ykc4"
      },
      "execution_count": 27,
      "outputs": []
    },
    {
      "cell_type": "code",
      "source": [
        "y_train[0]"
      ],
      "metadata": {
        "colab": {
          "base_uri": "https://localhost:8080/"
        },
        "id": "bPD_UtsLjjZr",
        "outputId": "a8b9a06b-bb35-4190-e776-18d174151920"
      },
      "execution_count": null,
      "outputs": [
        {
          "output_type": "execute_result",
          "data": {
            "text/plain": [
              "9"
            ]
          },
          "metadata": {},
          "execution_count": 7
        }
      ]
    },
    {
      "cell_type": "code",
      "source": [
        "def backward_propagation_Vanilla(a_out, h_out, y_train, y_dash, Weights, L):\n",
        "\n",
        "  delta_W = [0]*L\n",
        "  delta_b = [0]*L\n",
        "\n",
        "  \n",
        "  ## change each y_train into an array of 10 values\n",
        "  def e(y_train):\n",
        "      size = len(y_train)\n",
        "      temp = np.zeros((size,10))\n",
        "      i = 0\n",
        "      for num in y_train:\n",
        "        temp[i][num] = 1\n",
        "        i+=1\n",
        "      return temp\n",
        "\n",
        "  output_gradient = -(e(y_train) - y_dash)\n",
        "\n",
        "  for k in range(L, 0, -1):\n",
        "\n",
        "    ## compute gradients w.r.t parameters\n",
        "    W_gradient = np.dot(h_out[k-1].T, output_gradient)\n",
        "    delta_W[k-1] = W_gradient\n",
        "\n",
        "    b_gradients = output_gradient\n",
        "    delta_b[k-1] = b_gradients\n",
        "   \n",
        "    if k==1:\n",
        "      continue\n",
        "    ## compute gradients w.r.t layer below\n",
        "    weight = Weights[k-1]\n",
        "    h_gradient = np.dot(output_gradient, weight.T)\n",
        "\n",
        "    ## compute the gradient of pre activation layer\n",
        "    output_gradient = np.multiply(h_gradient, der_sigmoid(a_out[k-2]))\n",
        "\n",
        "  return delta_W, delta_b\n",
        "\n",
        "\n"
      ],
      "metadata": {
        "id": "NyHaK_0eh4s1"
      },
      "execution_count": null,
      "outputs": []
    },
    {
      "cell_type": "markdown",
      "source": [
        "Schotastic Gradient Descent Algorithm"
      ],
      "metadata": {
        "id": "ddXejHVcSfFP"
      }
    },
    {
      "cell_type": "code",
      "source": [
        "def Schotastic_gradient_descent(learning_rate, Weights, bias, L, y_train, X_train, no_of_classes):\n",
        "  \n",
        "  ## initialize the gradients of weights and biases\n",
        "  dW = weights(3, n, L, X_train, no_of_classes)\n",
        "  dB = biases(3, n, L, y_train, no_of_classes)\n",
        "  ## initialize the loss\n",
        "  cross_entropy_loss = 0\n",
        "  accuracy = 0\n",
        "\n",
        "  for x,y in zip(X_train,y_train):\n",
        "\n",
        "    ##x,y = np.float128(x), np.float128(y)\n",
        "\n",
        "    ## Forward propagation\n",
        "    a_out, h_out, y_dash = forward_propagation(Weights, bias, x, L)\n",
        "    \n",
        "    cross_entropy_loss -= np.log(y_dash[y])\n",
        "\n",
        "    ## Backward Propagation\n",
        "    delta_W, delta_b = backward_propagation(a_out, h_out, y, y_dash, Weights, L)\n",
        "\n",
        "    ## Adding the gradients of weights and biases\n",
        "    dW = [dW[i] + delta_W[i] for i in range(len(dW))]\n",
        "    dB = [dB[i] + delta_b[i] for i in range(len(dB))]\n",
        "\n",
        "    ## Weights and biases updates\n",
        "    # Weights updates\n",
        "    Weights = [Weights[i] - dW[i]*learning_rate for i in range(L)]\n",
        "\n",
        "    # Biases updates\n",
        "    bias = [bias[i] - dB[i]*learning_rate for i in range(L)]\n",
        "  \n",
        "  return Weights, bias, cross_entropy_loss\n"
      ],
      "metadata": {
        "id": "f7-bWfssBR_3"
      },
      "execution_count": 138,
      "outputs": []
    },
    {
      "cell_type": "code",
      "source": [
        "def Vanilla_gradient_descent(learning_rate, Weights, bias, L, y_train, X_train, no_of_classes):\n",
        "  cross_entropy_loss = 0\n",
        "  ## initialize the gradients of weights and biases\n",
        "  dW = weights(3, n, L, X_train, no_of_classes)\n",
        "  dB = biases(3, n, L, y_train, no_of_classes)\n",
        "  ## initialize the loss\n",
        "  cross_entropy_loss = 0\n",
        "  accuracy = 0\n",
        "\n",
        "  for x,y in zip(X_train,y_train):\n",
        "\n",
        "    ##x,y = np.float128(x), np.float128(y)\n",
        "\n",
        "    ## Forward propagation\n",
        "    a_out, h_out, y_dash = forward_propagation(Weights, bias, x, L)\n",
        "    \n",
        "    cross_entropy_loss -= np.log(y_dash[y])\n",
        "\n",
        "    ## Backward Propagation\n",
        "    delta_W, delta_b = backward_propagation(a_out, h_out, y, y_dash, Weights, L)\n",
        "\n",
        "    ## Adding the gradients of weights and biases\n",
        "    dW = [dW[i] + delta_W[i] for i in range(len(dW))]\n",
        "    dB = [dB[i] + delta_b[i] for i in range(len(dB))]\n",
        "\n",
        "  ## Weights and biases updates\n",
        "  # Weights updates\n",
        "  Weights = [Weights[i] - dW[i]*learning_rate for i in range(L)]\n",
        "\n",
        "  # Biases updates\n",
        "  bias = [bias[i] - dB[i]*learning_rate for i in range(L)]\n",
        "\n",
        "  return Weights, bias, cross_entropy_loss\n"
      ],
      "metadata": {
        "id": "rDk1Cctmkulu"
      },
      "execution_count": 139,
      "outputs": []
    },
    {
      "cell_type": "code",
      "source": [
        "for epoch in range(10):\n",
        "  Weights, bias, cross_entropy_loss = Vanilla_gradient_descent(0.0001, Weights, bias, L, y_train, X_train, no_of_classes)\n",
        "  print(epoch, cross_entropy_loss)"
      ],
      "metadata": {
        "colab": {
          "base_uri": "https://localhost:8080/"
        },
        "id": "3UVM66RNmVDx",
        "outputId": "f36e57ea-50ce-4827-d6a8-9ec075f9febc"
      },
      "execution_count": null,
      "outputs": [
        {
          "output_type": "stream",
          "name": "stdout",
          "text": [
            "0 186008.25577767028199\n",
            "1 864657.05324308260424\n",
            "2 1484956.9654415523015\n",
            "3 2139678.0109361840086\n",
            "4 2557773.2559555828695\n",
            "5 2785484.0529356675652\n",
            "6 3451247.921588784459\n",
            "7 3110830.0880534862724\n",
            "8 3676211.2724195758228\n",
            "9 4165923.469021511018\n"
          ]
        }
      ]
    },
    {
      "cell_type": "code",
      "source": [
        "def y_prediction(X_validation, y_validation, Weights, bias, L):\n",
        "\n",
        "  h = X_validation\n",
        "  for k in range(L-1):\n",
        "    a = np.dot(h, Weights[k]) + bias[k][:len(h)]\n",
        "    ## default activation function is sigmoid \n",
        "    h = sigmoid(a)\n",
        "  ## In outer layer softmax function\n",
        "  a = np.dot(h, Weights[L-1]) + bias[L-1][:len(h)]\n",
        "  y_pred = softmax(a)\n",
        "\n",
        "  correct = 0\n",
        "  for array,y in zip(y_pred, y_validation):\n",
        "    if np.argmax(array)==y:\n",
        "      correct+=1\n",
        "  accuracy = correct*100/len(y_validation)\n",
        "\n",
        "  return \"The accuracy in % is: \", accuracy"
      ],
      "metadata": {
        "id": "4vQxChQuUQDP"
      },
      "execution_count": 189,
      "outputs": []
    },
    {
      "cell_type": "code",
      "source": [
        "accuracy = y_prediction(X_validation, y_validation, Weights, bias, L)"
      ],
      "metadata": {
        "id": "picBbO9RYcK9",
        "colab": {
          "base_uri": "https://localhost:8080/"
        },
        "outputId": "271e60fc-33e6-42f6-a5a7-c45cb36f0d52"
      },
      "execution_count": 190,
      "outputs": [
        {
          "output_type": "stream",
          "name": "stderr",
          "text": [
            "<ipython-input-185-354c8b4d2089>:3: RuntimeWarning: overflow encountered in exp\n",
            "  return 1/(1+np.exp(-a))\n"
          ]
        }
      ]
    },
    {
      "cell_type": "code",
      "source": [
        "accuracy"
      ],
      "metadata": {
        "colab": {
          "base_uri": "https://localhost:8080/"
        },
        "id": "NcWZkwHNdRw0",
        "outputId": "4a1efccc-2db3-4ff4-a8a3-4b1f61b0b877"
      },
      "execution_count": 191,
      "outputs": [
        {
          "output_type": "execute_result",
          "data": {
            "text/plain": [
              "('The accuracy in % is: ', 14.916666666666666)"
            ]
          },
          "metadata": {},
          "execution_count": 191
        }
      ]
    },
    {
      "cell_type": "code",
      "source": [
        "for epoch in range(10):\n",
        "  \n",
        "  Weights, bias, cross_entropy_loss = Schotastic_gradient_descent(0.001, Weights, bias, L, y_train, X_train, no_of_classes)\n",
        "  print(epoch, cross_entropy_loss)\n"
      ],
      "metadata": {
        "id": "L4BlX1C6JA_F",
        "colab": {
          "base_uri": "https://localhost:8080/"
        },
        "outputId": "104f56f2-29be-4f7d-9f3e-fc639d7bc4fb"
      },
      "execution_count": null,
      "outputs": [
        {
          "output_type": "stream",
          "name": "stderr",
          "text": [
            "<ipython-input-15-dca693f527ed>:3: RuntimeWarning: overflow encountered in exp\n",
            "  return 1/(1+np.exp(-a))\n"
          ]
        },
        {
          "output_type": "stream",
          "name": "stdout",
          "text": [
            "0 4316897.7699304729917\n",
            "1 1390330.5034880982872\n",
            "2 2165898.8153658933861\n",
            "3 2207479.193150536024\n",
            "4 2567898.982508686708\n",
            "5 1665145.9210685671198\n",
            "6 1644296.2682321636871\n",
            "7 1825545.593432836345\n",
            "8 1855011.4823135913676\n",
            "9 2718000.965301782336\n"
          ]
        }
      ]
    },
    {
      "cell_type": "code",
      "source": [
        "for epoch in range(10,20):\n",
        "  \n",
        "  Weights, bias, cross_entropy_loss = Schotastic_gradient_descent(0.001, Weights, bias, L, y_train, X_train, no_of_classes)\n",
        "  print(epoch, cross_entropy_loss)"
      ],
      "metadata": {
        "id": "krUUbs4yqWBV"
      },
      "execution_count": null,
      "outputs": []
    },
    {
      "cell_type": "markdown",
      "source": [
        "\n",
        "\n",
        "momentum based Schochastic gradient descent"
      ],
      "metadata": {
        "id": "R8I0GT_l4vZa"
      }
    },
    {
      "cell_type": "code",
      "source": [
        "\n",
        "def Momentum_SGD(Weights, bias, L, X_train, y_train, beta, no_of_classes, prev_uw, prev_ub, eta):\n",
        "\n",
        "    ## initialize the gradients of weights and biases\n",
        "    dW = weights(3, n, L, X_train, no_of_classes)\n",
        "    dB = biases(3, n, L, y_train, no_of_classes)\n",
        "    ## initialize the loss\n",
        "    cross_entropy_loss = 0\n",
        "\n",
        "    for x,y in zip(X_train, y_train):\n",
        "\n",
        "      x = np.float128(x)\n",
        "\n",
        "      ## Forward propagation\n",
        "      a_out, h_out, y_dash = forward_propagation(Weights, bias, x, L)\n",
        "      # if y_dash[y]<0.5:\n",
        "      #   continue\n",
        "      cross_entropy_loss += -np.log(y_dash[y])\n",
        "\n",
        "      ## Backward Propagation\n",
        "      delta_W, delta_b = backward_propagation(a_out, h_out, y, y_dash, Weights, L)\n",
        "\n",
        "      ## Adding the gradients of weights and biases\n",
        "      dW = [dW[i] + delta_W[i] for i in range(len(dW))]\n",
        "      dB = [dB[i] + delta_b[i] for i in range(len(dB))]\n",
        "\n",
        "      ## momentum based wight updates\n",
        "      uw = [prev_uw[i]*beta + dW[i]*eta for i in range(len(dW))]\n",
        "      ub = [prev_ub[i]*beta + dB[i]*eta for i in range(len(dB))]\n",
        "      \n",
        "      ## Weights and biases updates\n",
        "      # Weights updates\n",
        "      Weights = [Weights[i] - uw[i] for i in range(len(uw))]\n",
        "\n",
        "      # Biases updates\n",
        "      bias = [bias[i] - ub[i] for i in range(len(ub))]\n",
        "\n",
        "      # assign present to the history \n",
        "      prev_uw = uw\n",
        "      prev_ub = ub\n",
        "\n",
        "    return  Weights, bias, cross_entropy_loss\n",
        "    "
      ],
      "metadata": {
        "id": "cT4mv_WjQk88"
      },
      "execution_count": null,
      "outputs": []
    },
    {
      "cell_type": "markdown",
      "source": [
        " Momentum based Vanilla GD"
      ],
      "metadata": {
        "id": "1RgmTXg29zD6"
      }
    },
    {
      "cell_type": "code",
      "source": [
        "def Momentum_VGD(Weights, bias, L, X_train, y_train, beta, no_of_classes, prev_uw, prev_ub, eta):\n",
        "\n",
        "    ## initialize the gradients of weights and biases\n",
        "    dW = weights(3, n, L, X_train, no_of_classes)\n",
        "    dB = biases(3, n, L, y_train, no_of_classes)\n",
        "    ## initialize the loss\n",
        "    cross_entropy_loss = 0\n",
        "\n",
        "    for x,y in zip(X_train, y_train):\n",
        "\n",
        "      x = np.float128(x)\n",
        "\n",
        "      ## Forward propagation\n",
        "      a_out, h_out, y_dash = forward_propagation(Weights, bias, x, L)\n",
        "      # if y_dash[y]<0.5:\n",
        "      #   continue\n",
        "      cross_entropy_loss += -np.log(y_dash[y])\n",
        "\n",
        "      ## Backward Propagation\n",
        "      delta_W, delta_b = backward_propagation(a_out, h_out, y, y_dash, Weights, L)\n",
        "\n",
        "      ## Adding the gradients of weights and biases\n",
        "      dW = [dW[i] + delta_W[i] for i in range(len(dW))]\n",
        "      dB = [dB[i] + delta_b[i] for i in range(len(dB))]\n",
        "\n",
        "    ## momentum based wight updates\n",
        "    uw = [prev_uw[i]*beta + dW[i]*eta for i in range(len(dW))]\n",
        "    ub = [prev_ub[i]*beta + dB[i]*eta for i in range(len(dB))]\n",
        "    \n",
        "    ## Weights and biases updates\n",
        "    # Weights updates\n",
        "    Weights = [Weights[i] - uw[i] for i in range(len(uw))]\n",
        "\n",
        "    # Biases updates\n",
        "    bias = [bias[i] - ub[i] for i in range(len(ub))]\n",
        "\n",
        "    # assign present to the history \n",
        "    prev_uw = uw\n",
        "    prev_ub = ub\n",
        "\n",
        "    return  Weights, bias, cross_entropy_loss"
      ],
      "metadata": {
        "id": "O4T2DTbp9N2I"
      },
      "execution_count": null,
      "outputs": []
    },
    {
      "cell_type": "code",
      "source": [
        "## initializing the initial value for momentum(zero)\n",
        "prev_uw = weights(3, n, L, X_train, no_of_classes)\n",
        "prev_ub = biases(3, n, L, y_train, no_of_classes)\n",
        "\n",
        "for i in range(5):\n",
        "  "
      ],
      "metadata": {
        "id": "BkLMLVo6-xrx"
      },
      "execution_count": null,
      "outputs": []
    },
    {
      "cell_type": "code",
      "source": [
        "## initializing the initial value for momentum(zero)\n",
        "prev_uw = weights(3, n, L, X_train, no_of_classes)\n",
        "prev_ub = biases(3, n, L, y_train, no_of_classes)\n",
        "\n",
        "for i in range(5):\n",
        "\n",
        "  Weights, bias, cross_entropy_loss = Momentum_VGD(Weights, bias, L, X_train, y_train, 0.5, no_of_classes, prev_uw, prev_ub, 0.000125)\n",
        "  print(i, cross_entropy_loss)"
      ],
      "metadata": {
        "colab": {
          "base_uri": "https://localhost:8080/"
        },
        "id": "HqLYxsuHiYnm",
        "outputId": "e8180e53-0883-4894-e393-ba643fe6bec7"
      },
      "execution_count": null,
      "outputs": [
        {
          "output_type": "stream",
          "name": "stdout",
          "text": [
            "0 5906596.1598271256794\n",
            "1 5906596.1694295621764\n",
            "2 5906596.179793060357\n",
            "3 5906596.190917421976\n",
            "4 5906596.202802443097\n"
          ]
        }
      ]
    },
    {
      "cell_type": "code",
      "source": [
        "a_out, h_out, y_dash = forward_propagation(Weights, bias, X_train[0], L)\n",
        "delta_W, delta_b = backward_propagation(a_out, h_out, y_train[0], y_dash, Weights, L)"
      ],
      "metadata": {
        "id": "uXc_-YqUGRR7"
      },
      "execution_count": null,
      "outputs": []
    },
    {
      "cell_type": "code",
      "source": [
        "U_o = weights(3, n, L, X_train, no_of_classes)"
      ],
      "metadata": {
        "id": "oMn4Tx29Glka"
      },
      "execution_count": null,
      "outputs": []
    },
    {
      "cell_type": "code",
      "source": [
        "U_w = np.multiply(U_o, [0.9]*L) + delta_W"
      ],
      "metadata": {
        "id": "kWw5zsjLGrlz"
      },
      "execution_count": null,
      "outputs": []
    },
    {
      "cell_type": "code",
      "source": [
        "Weights = Weights - np.multiply(U_w, [0.001]*L)"
      ],
      "metadata": {
        "id": "gMxSSDJ5G82W"
      },
      "execution_count": null,
      "outputs": []
    },
    {
      "cell_type": "code",
      "source": [
        "bias = bias - np.multiply(delta_b, [0.001]*L)"
      ],
      "metadata": {
        "id": "JTj6NibDHPnp"
      },
      "execution_count": null,
      "outputs": []
    },
    {
      "cell_type": "markdown",
      "source": [
        "Mini Batch Gradient Descent"
      ],
      "metadata": {
        "id": "KsS21O64Kvzl"
      }
    },
    {
      "cell_type": "code",
      "source": [
        "def Minibatch_gradient_descent(learning_rate, Weights, bias, L, y_train, X_train, no_of_classes, batch_size):\n",
        "  \n",
        "  ## initialize the gradients of weights and biases\n",
        "  dW = weights(3, n, L, X_train, no_of_classes)\n",
        "  dB = biases(3, n, L, y_train, no_of_classes)\n",
        "  ## initialize the loss\n",
        "  cross_entropy_loss = 0\n",
        "  num_points_seen = 0\n",
        "\n",
        "  for x,y in zip(X_train,y_train):\n",
        "\n",
        "    ##x,y = np.float128(x), np.float128(y)\n",
        "\n",
        "    ## Forward propagation\n",
        "    a_out, h_out, y_dash = forward_propagation(Weights, bias, x, L)\n",
        "    \n",
        "    cross_entropy_loss -= np.log(y_dash[y])\n",
        "\n",
        "    ## Backward Propagation\n",
        "    delta_W, delta_b = backward_propagation(a_out, h_out, y, y_dash, Weights, L)\n",
        "\n",
        "    ## Adding the gradients of weights and biases\n",
        "    dW = [dW[i] + delta_W[i] for i in range(len(dW))]\n",
        "    dB = [dB[i] + delta_b[i] for i in range(len(dB))]\n",
        "     \n",
        "    num_points_seen+=1\n",
        "    \n",
        "    if num_points_seen%batch_size == 0:\n",
        "      ## Weights and biases updates\n",
        "      # Weights updates\n",
        "      Weights = [Weights[i] - dW[i]*learning_rate for i in range(L)]\n",
        "\n",
        "      # Biases updates\n",
        "      bias = [bias[i] - dB[i]*learning_rate for i in range(L)]\n",
        "      \n",
        "      ## initialize the gradients of weights and biases\n",
        "      dW = weights(3, n, L, X_train, no_of_classes)\n",
        "      dB = biases(3, n, L, y_train, no_of_classes)\n",
        "  \n",
        "  return Weights, bias, cross_entropy_loss\n"
      ],
      "metadata": {
        "id": "lF615oFSKuv-"
      },
      "execution_count": 18,
      "outputs": []
    },
    {
      "cell_type": "code",
      "source": [
        "a_out, h_out, y_dash = forward_propagation(Weights, bias, X_validation[0], L)"
      ],
      "metadata": {
        "id": "O2KQGKAbXD8J"
      },
      "execution_count": null,
      "outputs": []
    },
    {
      "cell_type": "code",
      "source": [
        "y_dash,y_validation[0]"
      ],
      "metadata": {
        "colab": {
          "base_uri": "https://localhost:8080/"
        },
        "id": "mBaFTY_iXOfP",
        "outputId": "65c93f6a-7b64-462b-9327-d8d1189d691a"
      },
      "execution_count": null,
      "outputs": [
        {
          "output_type": "execute_result",
          "data": {
            "text/plain": [
              "(array([0.09496257, 0.08837023, 0.09289915, 0.09092248, 0.13849689,\n",
              "        0.11691721, 0.10805321, 0.08712489, 0.10065996, 0.08159341],\n",
              "       dtype=float128), 5)"
            ]
          },
          "metadata": {},
          "execution_count": 80
        }
      ]
    },
    {
      "cell_type": "code",
      "source": [
        "np.argmax(y_dash)+1"
      ],
      "metadata": {
        "colab": {
          "base_uri": "https://localhost:8080/"
        },
        "id": "htU8jp9KYa6w",
        "outputId": "5b2c0154-eb34-4849-dbf8-eb24a5999560"
      },
      "execution_count": null,
      "outputs": [
        {
          "output_type": "execute_result",
          "data": {
            "text/plain": [
              "5"
            ]
          },
          "metadata": {},
          "execution_count": 78
        }
      ]
    },
    {
      "cell_type": "code",
      "source": [
        "for i in range(10):\n",
        "  Weights, bias, cross_entropy_loss = Minibatch_gradient_descent(0.0001, Weights, bias, L, y_train, X_train, no_of_classes, 25)\n",
        "  print(i, cross_entropy_loss)"
      ],
      "metadata": {
        "colab": {
          "base_uri": "https://localhost:8080/"
        },
        "id": "O11C1AEYPgFI",
        "outputId": "827fb521-60ac-458d-9e58-08fda35a349c"
      },
      "execution_count": 26,
      "outputs": [
        {
          "output_type": "stream",
          "name": "stdout",
          "text": [
            "0 255854.41661719723487\n",
            "1 107273.4848138943569\n",
            "2 76425.25104909361829\n",
            "3 61905.60303530317869\n",
            "4 52543.813349273879552\n",
            "5 48336.21865390238189\n",
            "6 46344.26677638381343\n",
            "7 44516.578714586417057\n",
            "8 42927.89543402923229\n",
            "9 41310.808489701444007\n"
          ]
        }
      ]
    },
    {
      "cell_type": "markdown",
      "source": [
        "Mini Batch Momentum based Gradient Descent"
      ],
      "metadata": {
        "id": "IK6JEr8ORuE4"
      }
    },
    {
      "cell_type": "code",
      "source": [
        "def Minibatch_Momentum_GD(Weights, bias, L, X_train, y_train, beta, no_of_classes, prev_uw, prev_ub, learning_rate, batch_size):\n",
        "\n",
        "    ## initialize the gradients of weights and biases\n",
        "    dW = weights(3, n, L, X_train, no_of_classes)\n",
        "    dB = biases(3, n, L, y_train, no_of_classes)\n",
        "    ## initialize the loss\n",
        "    cross_entropy_loss = 0\n",
        "    num_points_seen = 0\n",
        "\n",
        "    for x,y in zip(X_train, y_train):\n",
        "\n",
        "      #x = np.float128(x)\n",
        "\n",
        "      ## Forward propagation\n",
        "      a_out, h_out, y_dash = forward_propagation(Weights, bias, x, L)\n",
        "    \n",
        "      cross_entropy_loss += -np.log(y_dash[y])\n",
        "\n",
        "      ## Backward Propagation\n",
        "      delta_W, delta_b = backward_propagation(a_out, h_out, y, y_dash, Weights, L)\n",
        "\n",
        "      ## Adding the gradients of weights and biases\n",
        "      dW = [dW[i] + delta_W[i] for i in range(len(dW))]\n",
        "      dB = [dB[i] + delta_b[i] for i in range(len(dB))]\n",
        "\n",
        "      num_points_seen +=1\n",
        " \n",
        "      if num_points_seen%batch_size==0:\n",
        "        ## momentum based wight updates\n",
        "        uw = [prev_uw[i]*beta + dW[i]*learning_rate for i in range(len(dW))]\n",
        "        ub = [prev_ub[i]*beta + dB[i]*learning_rate for i in range(len(dB))]\n",
        "        \n",
        "        ## Weights and biases updates\n",
        "        # Weights updates\n",
        "        Weights = [Weights[i] - uw[i] for i in range(len(uw))]\n",
        "\n",
        "        # Biases updates\n",
        "        bias = [bias[i] - ub[i] for i in range(len(ub))]\n",
        "\n",
        "        # assign present to the history \n",
        "        prev_uw = uw\n",
        "        prev_ub = ub\n",
        "\n",
        "        dW = weights(3, n, L, X_train, no_of_classes)\n",
        "        dB = biases(3, n, L, y_train, no_of_classes)\n",
        "\n",
        "    return  Weights, bias, cross_entropy_loss"
      ],
      "metadata": {
        "id": "N9hSwUCaRVVz"
      },
      "execution_count": 24,
      "outputs": []
    },
    {
      "cell_type": "code",
      "source": [
        "lr=0.0001 \n",
        "0 125217.9279523200079\n",
        "1 124791.334193791992874\n",
        "2 124791.33419379177843\n",
        "lr=0.001\n",
        "0 128926.59547633237219\n",
        "1 128605.14089511223833\n",
        "2 128605.140894917343836\n",
        "lr=0.01\n",
        "0 981859.5428246767486\n",
        "1 1049694.3521870286147\n",
        "2 1029440.91528793762353\n",
        "lr=.1\n",
        "0 10563152.75025798108\n",
        "1 5263418.4290938015865\n",
        "2 3394934.648464207806\n",
        "\n",
        "lr=1\n",
        "0 9904796.2547452183835\n",
        "1 4508884.7683379593695\n",
        "2 4166146.9885249117713"
      ],
      "metadata": {
        "id": "OGytfLOAb1jI"
      },
      "execution_count": null,
      "outputs": []
    },
    {
      "cell_type": "code",
      "source": [
        "## initializing the initial value for momentum(zero)\n",
        "prev_uw = weights(3, n, L, X_train, no_of_classes)\n",
        "prev_ub = biases(3, n, L, y_train, no_of_classes)\n",
        "\n",
        "for i in range(100):\n",
        "\n",
        "  Weights, bias, cross_entropy_loss = Minibatch_Momentum_GD(Weights, bias, L, X_train, y_train, 0.9, no_of_classes, prev_uw, prev_ub, 0.0001, 50)\n",
        "  print(i, cross_entropy_loss)"
      ],
      "metadata": {
        "colab": {
          "base_uri": "https://localhost:8080/",
          "height": 318
        },
        "id": "5a-rcveBQD_w",
        "outputId": "70ec397d-f815-4d83-93a2-e07418a3c3d8"
      },
      "execution_count": 25,
      "outputs": [
        {
          "output_type": "stream",
          "name": "stdout",
          "text": [
            "0 nan\n",
            "1 nan\n"
          ]
        },
        {
          "output_type": "error",
          "ename": "KeyboardInterrupt",
          "evalue": "ignored",
          "traceback": [
            "\u001b[0;31m---------------------------------------------------------------------------\u001b[0m",
            "\u001b[0;31mKeyboardInterrupt\u001b[0m                         Traceback (most recent call last)",
            "\u001b[0;32m<ipython-input-25-de3cb7ed508b>\u001b[0m in \u001b[0;36m<module>\u001b[0;34m\u001b[0m\n\u001b[1;32m      5\u001b[0m \u001b[0;32mfor\u001b[0m \u001b[0mi\u001b[0m \u001b[0;32min\u001b[0m \u001b[0mrange\u001b[0m\u001b[0;34m(\u001b[0m\u001b[0;36m100\u001b[0m\u001b[0;34m)\u001b[0m\u001b[0;34m:\u001b[0m\u001b[0;34m\u001b[0m\u001b[0;34m\u001b[0m\u001b[0m\n\u001b[1;32m      6\u001b[0m \u001b[0;34m\u001b[0m\u001b[0m\n\u001b[0;32m----> 7\u001b[0;31m   \u001b[0mWeights\u001b[0m\u001b[0;34m,\u001b[0m \u001b[0mbias\u001b[0m\u001b[0;34m,\u001b[0m \u001b[0mcross_entropy_loss\u001b[0m \u001b[0;34m=\u001b[0m \u001b[0mMinibatch_Momentum_GD\u001b[0m\u001b[0;34m(\u001b[0m\u001b[0mWeights\u001b[0m\u001b[0;34m,\u001b[0m \u001b[0mbias\u001b[0m\u001b[0;34m,\u001b[0m \u001b[0mL\u001b[0m\u001b[0;34m,\u001b[0m \u001b[0mX_train\u001b[0m\u001b[0;34m,\u001b[0m \u001b[0my_train\u001b[0m\u001b[0;34m,\u001b[0m \u001b[0;36m0.9\u001b[0m\u001b[0;34m,\u001b[0m \u001b[0mno_of_classes\u001b[0m\u001b[0;34m,\u001b[0m \u001b[0mprev_uw\u001b[0m\u001b[0;34m,\u001b[0m \u001b[0mprev_ub\u001b[0m\u001b[0;34m,\u001b[0m \u001b[0;36m0.0001\u001b[0m\u001b[0;34m,\u001b[0m \u001b[0;36m50\u001b[0m\u001b[0;34m)\u001b[0m\u001b[0;34m\u001b[0m\u001b[0;34m\u001b[0m\u001b[0m\n\u001b[0m\u001b[1;32m      8\u001b[0m   \u001b[0mprint\u001b[0m\u001b[0;34m(\u001b[0m\u001b[0mi\u001b[0m\u001b[0;34m,\u001b[0m \u001b[0mcross_entropy_loss\u001b[0m\u001b[0;34m)\u001b[0m\u001b[0;34m\u001b[0m\u001b[0;34m\u001b[0m\u001b[0m\n",
            "\u001b[0;32m<ipython-input-24-799cb4e695bf>\u001b[0m in \u001b[0;36mMinibatch_Momentum_GD\u001b[0;34m(Weights, bias, L, X_train, y_train, beta, no_of_classes, prev_uw, prev_ub, learning_rate, batch_size)\u001b[0m\n\u001b[1;32m     13\u001b[0m \u001b[0;34m\u001b[0m\u001b[0m\n\u001b[1;32m     14\u001b[0m       \u001b[0;31m## Forward propagation\u001b[0m\u001b[0;34m\u001b[0m\u001b[0;34m\u001b[0m\u001b[0;34m\u001b[0m\u001b[0m\n\u001b[0;32m---> 15\u001b[0;31m       \u001b[0ma_out\u001b[0m\u001b[0;34m,\u001b[0m \u001b[0mh_out\u001b[0m\u001b[0;34m,\u001b[0m \u001b[0my_dash\u001b[0m \u001b[0;34m=\u001b[0m \u001b[0mforward_propagation\u001b[0m\u001b[0;34m(\u001b[0m\u001b[0mWeights\u001b[0m\u001b[0;34m,\u001b[0m \u001b[0mbias\u001b[0m\u001b[0;34m,\u001b[0m \u001b[0mx\u001b[0m\u001b[0;34m,\u001b[0m \u001b[0mL\u001b[0m\u001b[0;34m)\u001b[0m\u001b[0;34m\u001b[0m\u001b[0;34m\u001b[0m\u001b[0m\n\u001b[0m\u001b[1;32m     16\u001b[0m \u001b[0;34m\u001b[0m\u001b[0m\n\u001b[1;32m     17\u001b[0m       \u001b[0mcross_entropy_loss\u001b[0m \u001b[0;34m+=\u001b[0m \u001b[0;34m-\u001b[0m\u001b[0mnp\u001b[0m\u001b[0;34m.\u001b[0m\u001b[0mlog\u001b[0m\u001b[0;34m(\u001b[0m\u001b[0my_dash\u001b[0m\u001b[0;34m[\u001b[0m\u001b[0my\u001b[0m\u001b[0;34m]\u001b[0m\u001b[0;34m)\u001b[0m\u001b[0;34m\u001b[0m\u001b[0;34m\u001b[0m\u001b[0m\n",
            "\u001b[0;32m<ipython-input-15-cdd8e372a19b>\u001b[0m in \u001b[0;36mforward_propagation\u001b[0;34m(Weights, bias, h, L)\u001b[0m\n\u001b[1;32m      7\u001b[0m   \u001b[0;31m## for hidden layers\u001b[0m\u001b[0;34m\u001b[0m\u001b[0;34m\u001b[0m\u001b[0;34m\u001b[0m\u001b[0m\n\u001b[1;32m      8\u001b[0m   \u001b[0;32mfor\u001b[0m \u001b[0mk\u001b[0m \u001b[0;32min\u001b[0m \u001b[0mrange\u001b[0m\u001b[0;34m(\u001b[0m\u001b[0mL\u001b[0m\u001b[0;34m-\u001b[0m\u001b[0;36m1\u001b[0m\u001b[0;34m)\u001b[0m\u001b[0;34m:\u001b[0m\u001b[0;34m\u001b[0m\u001b[0;34m\u001b[0m\u001b[0m\n\u001b[0;32m----> 9\u001b[0;31m     \u001b[0ma\u001b[0m \u001b[0;34m=\u001b[0m \u001b[0mnp\u001b[0m\u001b[0;34m.\u001b[0m\u001b[0mdot\u001b[0m\u001b[0;34m(\u001b[0m\u001b[0mh\u001b[0m\u001b[0;34m,\u001b[0m \u001b[0mWeights\u001b[0m\u001b[0;34m[\u001b[0m\u001b[0mk\u001b[0m\u001b[0;34m]\u001b[0m\u001b[0;34m)\u001b[0m \u001b[0;34m+\u001b[0m \u001b[0mbias\u001b[0m\u001b[0;34m[\u001b[0m\u001b[0mk\u001b[0m\u001b[0;34m]\u001b[0m\u001b[0;34m\u001b[0m\u001b[0;34m\u001b[0m\u001b[0m\n\u001b[0m\u001b[1;32m     10\u001b[0m     \u001b[0ma_out\u001b[0m\u001b[0;34m.\u001b[0m\u001b[0mappend\u001b[0m\u001b[0;34m(\u001b[0m\u001b[0ma\u001b[0m\u001b[0;34m)\u001b[0m\u001b[0;34m\u001b[0m\u001b[0;34m\u001b[0m\u001b[0m\n\u001b[1;32m     11\u001b[0m     \u001b[0;31m## default activation function is sigmoid\u001b[0m\u001b[0;34m\u001b[0m\u001b[0;34m\u001b[0m\u001b[0;34m\u001b[0m\u001b[0m\n",
            "\u001b[0;32m/usr/local/lib/python3.8/dist-packages/numpy/core/overrides.py\u001b[0m in \u001b[0;36mdot\u001b[0;34m(*args, **kwargs)\u001b[0m\n",
            "\u001b[0;31mKeyboardInterrupt\u001b[0m: "
          ]
        }
      ]
    },
    {
      "cell_type": "markdown",
      "source": [
        "Nesterov Accelerated Gradient Descent"
      ],
      "metadata": {
        "id": "KcBoS2WQeF-n"
      }
    },
    {
      "cell_type": "code",
      "source": [
        "def Minibatch_NAG(Weights, bias, L, X_train, y_train, beta, no_of_classes, prev_vw, prev_vb, learning_rate, batch_size):\n",
        "\n",
        "    ## initialize the gradients of weights and biases\n",
        "    dW = weights(3, n, L, X_train, no_of_classes)\n",
        "    dB = biases(3, n, L, y_train, no_of_classes)\n",
        "    ## initialize the loss\n",
        "    cross_entropy_loss = 0\n",
        "    num_points_seen = 0\n",
        "\n",
        "    # do partial updates\n",
        "    v_w = [beta*prev_vw[i] for i in range(len(prev_vw))]\n",
        "    v_b = [beta*prev_vb[i] for i in range(len(prev_vb))]\n",
        "\n",
        "    for x, y in zip(X_train, y_train):\n",
        "\n",
        "      #x = np.float128(x)\n",
        "\n",
        "      ## Forward propagation\n",
        "      Weights = [Weights[i]-v_w[i] for i in range(len(Weights))]\n",
        "      bias    = [bias[i]-v_b[i] for i in range(len(bias))]\n",
        "      a_out, h_out, y_dash = forward_propagation(Weights, bias, x, L)\n",
        "      \n",
        "      cross_entropy_loss += -np.log(y_dash[y])\n",
        "\n",
        "      ## Backward Propagation\n",
        "      delta_W, delta_b = backward_propagation(a_out, h_out, y, y_dash, Weights, L)\n",
        "\n",
        "      ## Look Ahead\n",
        "      ## Adding the gradients of weights and biases\n",
        "      dW = [dW[i] + delta_W[i] for i in range(len(dW))]\n",
        "      dB = [dB[i] + delta_b[i] for i in range(len(dB))]\n",
        "\n",
        "      num_points_seen +=1\n",
        "\n",
        "      if num_points_seen%batch_size==0:\n",
        "        ## momentum based wight updates\n",
        "        vw = [prev_vw[i]*beta + dW[i]*learning_rate for i in range(len(dW))]\n",
        "        vb = [prev_vb[i]*beta + dB[i]*learning_rate for i in range(len(dB))]\n",
        "\n",
        "        ## Weights and biases updates\n",
        "        # Weights updates\n",
        "        Weights = [Weights[i] - vw[i] for i in range(len(vw))]\n",
        "\n",
        "        # Biases updates\n",
        "        bias = [bias[i] - vb[i] for i in range(len(vb))]\n",
        "\n",
        "        # assign present to the history \n",
        "        prev_uw = vw\n",
        "        prev_ub = vb\n",
        "\n",
        "        dW = weights(3, n, L, X_train, no_of_classes)\n",
        "        dB = biases(3, n, L, y_train, no_of_classes)\n",
        "\n",
        "    return  Weights, bias, cross_entropy_loss"
      ],
      "metadata": {
        "id": "EhjA6UuceE_v"
      },
      "execution_count": 187,
      "outputs": []
    },
    {
      "cell_type": "code",
      "source": [
        "## initializing the initial value for momentum(zero)\n",
        "prev_vw = weights(3, n, L, X_train, no_of_classes)\n",
        "prev_vb = biases(3, n, L, y_train, no_of_classes)\n",
        "\n",
        "for i in range(10):\n",
        "  Weights, bias, cross_entropy_loss = Minibatch_NAG(Weights, bias, L, X_train, y_train, 0.9, no_of_classes, prev_vw, prev_vb, 0.0001, 25)\n",
        "  print(i,cross_entropy_loss)"
      ],
      "metadata": {
        "colab": {
          "base_uri": "https://localhost:8080/"
        },
        "id": "yFL7QpxmVKoZ",
        "outputId": "6bfc5da5-6e7e-491d-cfd9-2017855bd7a1"
      },
      "execution_count": 188,
      "outputs": [
        {
          "output_type": "stream",
          "name": "stdout",
          "text": [
            "0 124334.63969723861\n",
            "1 114089.96140601054\n",
            "2 100065.40288870217\n",
            "3 90643.08911525035\n",
            "4 84839.91116370758\n",
            "5 80753.64509107932\n",
            "6 77648.00767787363\n",
            "7 75174.92764661534\n",
            "8 73120.47018418703\n",
            "9 71382.41387136435\n"
          ]
        }
      ]
    },
    {
      "cell_type": "code",
      "source": [
        "eps=1e-10\n",
        "y_hat = np.clip(0, eps, 1-eps)"
      ],
      "metadata": {
        "id": "e1sLcs528b10"
      },
      "execution_count": 163,
      "outputs": []
    },
    {
      "cell_type": "code",
      "source": [
        "y_hat"
      ],
      "metadata": {
        "colab": {
          "base_uri": "https://localhost:8080/"
        },
        "id": "p9QWjI7h_QC1",
        "outputId": "cd8991a2-c4ca-46dd-a844-e06ec8018914"
      },
      "execution_count": 164,
      "outputs": [
        {
          "output_type": "execute_result",
          "data": {
            "text/plain": [
              "1e-10"
            ]
          },
          "metadata": {},
          "execution_count": 164
        }
      ]
    },
    {
      "cell_type": "code",
      "source": [
        "np.log(y_hat)"
      ],
      "metadata": {
        "colab": {
          "base_uri": "https://localhost:8080/"
        },
        "id": "qtbfh87v_HBZ",
        "outputId": "496f161a-5993-4cc4-f577-4c5851063568"
      },
      "execution_count": 165,
      "outputs": [
        {
          "output_type": "execute_result",
          "data": {
            "text/plain": [
              "-23.025850929940457"
            ]
          },
          "metadata": {},
          "execution_count": 165
        }
      ]
    },
    {
      "cell_type": "code",
      "source": [
        "def do_nag(max_epochs):\n",
        "    w,b,eta = -2,-2,1.0\n",
        "    prev_vw,prev_vb,beta = 0,0,0.9\n",
        "   \n",
        "    for i in range(max_epochs):\n",
        "        dw,db = 0,0\n",
        "        # do partial updates\n",
        "        v_w = beta*prev_vw\n",
        "        v_b = beta*prev_vb\n",
        "        for x,y in zip(X,Y):\n",
        "            # Look ahead\n",
        "            dw += grad_w(w-v_w,b-v_b,x,y)\n",
        "            db += grad_b(w-v_w,b-v_b,x,y)\n",
        "        vw = beta*prev_vw+eta*dw\n",
        "        vb = beta*prev_vb+eta*db\n",
        "        w = w - vw\n",
        "        b = b - vb\n",
        "        prev_vw = vw\n",
        "        prev_vb = vb\n",
        "        "
      ],
      "metadata": {
        "id": "LizlovNptY0X"
      },
      "execution_count": null,
      "outputs": []
    },
    {
      "cell_type": "markdown",
      "source": [],
      "metadata": {
        "id": "ti8ADwESXAGY"
      }
    },
    {
      "cell_type": "code",
      "source": [],
      "metadata": {
        "id": "ktWLOxF2WnnD"
      },
      "execution_count": null,
      "outputs": []
    }
  ]
}