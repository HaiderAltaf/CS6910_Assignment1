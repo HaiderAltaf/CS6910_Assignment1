{
  "nbformat": 4,
  "nbformat_minor": 0,
  "metadata": {
    "colab": {
      "provenance": [],
      "authorship_tag": "ABX9TyMWy+++MaD+mKT5Xkt9M3oc",
      "include_colab_link": true
    },
    "kernelspec": {
      "name": "python3",
      "display_name": "Python 3"
    },
    "language_info": {
      "name": "python"
    }
  },
  "cells": [
    {
      "cell_type": "markdown",
      "metadata": {
        "id": "view-in-github",
        "colab_type": "text"
      },
      "source": [
        "<a href=\"https://colab.research.google.com/github/HaiderAltaf/Gradient-Descent-Algorithm-and-its-variants/blob/main/cs6910_assig1.ipynb\" target=\"_parent\"><img src=\"https://colab.research.google.com/assets/colab-badge.svg\" alt=\"Open In Colab\"/></a>"
      ]
    },
    {
      "cell_type": "markdown",
      "source": [
        "# Question 1\n",
        "Download the fashion-MNIST dataset and plot 1 sample image for each class as shown in the grid below. Use from keras.datasets import fashion_mnist for getting the fashion mnist dataset."
      ],
      "metadata": {
        "id": "-5cMQpFel2pj"
      }
    },
    {
      "cell_type": "code",
      "execution_count": 1,
      "metadata": {
        "id": "O_-ut5eWlniQ"
      },
      "outputs": [],
      "source": [
        "import numpy as np\n",
        "import pandas as pd\n",
        "from keras.datasets import fashion_mnist"
      ]
    },
    {
      "cell_type": "code",
      "source": [
        "import matplotlib.pyplot as plt\n",
        "import math\n"
      ],
      "metadata": {
        "id": "-cBlCFC1qNeZ"
      },
      "execution_count": 2,
      "outputs": []
    },
    {
      "cell_type": "markdown",
      "source": [
        "importing the Fashion-MNIST Dataset"
      ],
      "metadata": {
        "id": "dzz6U3Vpl8Nq"
      }
    },
    {
      "cell_type": "code",
      "source": [
        "dataset = fashion_mnist.load_data()"
      ],
      "metadata": {
        "id": "gKyKHAvJmEaJ",
        "colab": {
          "base_uri": "https://localhost:8080/"
        },
        "outputId": "438e2b66-41c9-44b4-ece8-67c6bffbbdac"
      },
      "execution_count": 3,
      "outputs": [
        {
          "output_type": "stream",
          "name": "stdout",
          "text": [
            "Downloading data from https://storage.googleapis.com/tensorflow/tf-keras-datasets/train-labels-idx1-ubyte.gz\n",
            "29515/29515 [==============================] - 0s 0us/step\n",
            "Downloading data from https://storage.googleapis.com/tensorflow/tf-keras-datasets/train-images-idx3-ubyte.gz\n",
            "26421880/26421880 [==============================] - 1s 0us/step\n",
            "Downloading data from https://storage.googleapis.com/tensorflow/tf-keras-datasets/t10k-labels-idx1-ubyte.gz\n",
            "5148/5148 [==============================] - 0s 0us/step\n",
            "Downloading data from https://storage.googleapis.com/tensorflow/tf-keras-datasets/t10k-images-idx3-ubyte.gz\n",
            "4422102/4422102 [==============================] - 0s 0us/step\n"
          ]
        }
      ]
    },
    {
      "cell_type": "markdown",
      "source": [
        "separating training(60,000 images) and testing(10,000) image data"
      ],
      "metadata": {
        "id": "5HdIEqNLprRH"
      }
    },
    {
      "cell_type": "code",
      "source": [
        "(x_train, y_train), (x_test, y_test) = dataset\n",
        "x_train = x_train.reshape(x_train.shape[0], -1)/255\n",
        "X_test = x_test.reshape(x_test.shape[0], -1)/255"
      ],
      "metadata": {
        "id": "_VViAXQ4mfc5"
      },
      "execution_count": 4,
      "outputs": []
    },
    {
      "cell_type": "markdown",
      "source": [
        "Separating 10% from training data for validation"
      ],
      "metadata": {
        "id": "sA6OYRtpzjKW"
      }
    },
    {
      "cell_type": "code",
      "source": [
        "validation_size = int(len(x_train)*0.1)\n",
        "\n",
        "# randomly shuffle the indices of the data\n",
        "shuffled_indices = np.random.permutation(len(x_train))\n",
        "\n",
        "# split the shuffled data into training and validation sets\n",
        "train_indices, validation_indices = shuffled_indices[:-validation_size], shuffled_indices[-validation_size:]\n",
        "X_train, X_validation = x_train[train_indices], x_train[validation_indices]\n",
        "y_train, y_validation = y_train[train_indices], y_train[validation_indices]"
      ],
      "metadata": {
        "id": "BKkp-zpWwUna"
      },
      "execution_count": 5,
      "outputs": []
    },
    {
      "cell_type": "markdown",
      "source": [
        "Number of classes in data"
      ],
      "metadata": {
        "id": "O2t1ke4Z5Mvc"
      }
    },
    {
      "cell_type": "markdown",
      "source": [
        " plot 1 sample image for each class "
      ],
      "metadata": {
        "id": "UCyEEtXCqXAc"
      }
    },
    {
      "cell_type": "code",
      "source": [
        "class_names = ['T-shirt/top', 'Trouser', 'Pullover', 'Dress', 'Coat', 'Sandal',\n",
        "               'Shirt', 'Sneaker', 'Bag', 'Ankle boot']\n",
        "          \n",
        "no_of_classes = len(class_names)\n",
        "fig, axes = plt.subplots(1, no_of_classes, figsize=(20,20))\n",
        "\n",
        "for i in range(no_of_classes):\n",
        "\n",
        "    # Find the index of the first image of each class\n",
        "    idx = np.where(y_train == i)[0][0]\n",
        "    \n",
        "    # Plot the image\n",
        "    axes[i].imshow(x_train[idx].reshape(28,28), cmap='gray')\n",
        "    axes[i].set_title(class_names[i])\n",
        "    axes[i].axis('off')\n",
        "\n",
        "plt.show()\n",
        "\n",
        "\n"
      ],
      "metadata": {
        "colab": {
          "base_uri": "https://localhost:8080/",
          "height": 141
        },
        "id": "yTyYtOi2skO4",
        "outputId": "3d61d96f-a2ad-4fd2-83ae-bbe1ff73cf69"
      },
      "execution_count": null,
      "outputs": [
        {
          "output_type": "display_data",
          "data": {
            "text/plain": [
              "<Figure size 1440x1440 with 10 Axes>"
            ],
            "image/png": "[encoded data removed]"
          },
          "metadata": {
            "needs_background": "light"
          }
        }
      ]
    },
    {
      "cell_type": "code",
      "source": [
        "class_names = ['T-shirt/top', 'Trouser', 'Pullover', 'Dress', 'Coat', 'Sandal',\n",
        "               'Shirt', 'Sneaker', 'Bag', 'Ankle boot']\n",
        "\n",
        "# Plot images in rows of 5\n",
        "no_of_classes = len(class_names)\n",
        "num_rows = 2\n",
        "num_cols = 5\n",
        "num_images = num_rows * num_cols\n",
        "\n",
        "fig, axes = plt.subplots(num_rows, num_cols, figsize=(20,8))\n",
        "\n",
        "for i in range(num_images):\n",
        "    # Calculate the row and column index of the current image\n",
        "    row = i // num_cols\n",
        "    col = i % num_cols\n",
        "    \n",
        "    # Find the index of the ith image of each class\n",
        "    idx = np.where(y_train == i % no_of_classes)[0][i // no_of_classes]\n",
        "    \n",
        "    # Plot the image\n",
        "    axes[row, col].imshow(x_train[idx].reshape(28,28), cmap='gray')\n",
        "    axes[row, col].set_title(class_names[i % no_of_classes])\n",
        "    axes[row, col].axis('off')\n",
        "\n",
        "plt.show()"
      ],
      "metadata": {
        "colab": {
          "base_uri": "https://localhost:8080/",
          "height": 477
        },
        "id": "-MWYcSsvqddp",
        "outputId": "675a771f-c581-41c8-8313-99383ad986d6"
      },
      "execution_count": null,
      "outputs": [
        {
          "output_type": "display_data",
          "data": {
            "text/plain": [
              "<Figure size 1440x576 with 10 Axes>"
            ],
            "image/png": "[encoded data removed]"
          },
          "metadata": {
            "needs_background": "light"
          }
        }
      ]
    },
    {
      "cell_type": "markdown",
      "source": [
        "# Question 2 \n",
        "\n",
        "Implement a feedforward neural network which takes images from the fashion-mnist data as input and outputs a probability distribution over the 10 classes."
      ],
      "metadata": {
        "id": "ZlUA82ekuTqc"
      }
    },
    {
      "cell_type": "code",
      "source": [
        "L = int(input(\"Enter the number of Hidden + outer layer: \"))"
      ],
      "metadata": {
        "id": "_LP2q-Of4ApX",
        "colab": {
          "base_uri": "https://localhost:8080/"
        },
        "outputId": "294a4b9a-af89-443c-fda7-8e402c9b8eab"
      },
      "execution_count": 6,
      "outputs": [
        {
          "name": "stdout",
          "output_type": "stream",
          "text": [
            "Enter the number of Hidden + outer layer: 3\n"
          ]
        }
      ]
    },
    {
      "cell_type": "code",
      "source": [
        "n = int(input(\"Enter the numbers of neuron in each hidden layer: \"))"
      ],
      "metadata": {
        "id": "H8IheuiD4Rv3",
        "colab": {
          "base_uri": "https://localhost:8080/"
        },
        "outputId": "25425fa2-f63a-4e90-c261-5795d7672dc5"
      },
      "execution_count": 7,
      "outputs": [
        {
          "name": "stdout",
          "output_type": "stream",
          "text": [
            "Enter the numbers of neuron in each hidden layer: 16\n"
          ]
        }
      ]
    },
    {
      "cell_type": "code",
      "source": [
        "no_of_classes = len(np.unique(y_train))"
      ],
      "metadata": {
        "id": "3JFVNBN-4gB0"
      },
      "execution_count": 8,
      "outputs": []
    },
    {
      "cell_type": "code",
      "source": [
        "choice = int(input(\"For random weights initialisation enter 1 and for xavier enter 2: \"))"
      ],
      "metadata": {
        "colab": {
          "base_uri": "https://localhost:8080/"
        },
        "id": "K9Y8casj40uH",
        "outputId": "c28ce606-4485-45ed-a9c5-2ee382d77dc6"
      },
      "execution_count": 9,
      "outputs": [
        {
          "name": "stdout",
          "output_type": "stream",
          "text": [
            "For random weights initialisation enter 1 and for xavier enter 2: 1\n"
          ]
        }
      ]
    },
    {
      "cell_type": "code",
      "source": [
        "def weights(choice, n, L, X_train, no_of_classes):\n",
        "  \n",
        "  Weights = []\n",
        "  np.random.seed(0)\n",
        "\n",
        "  if choice ==1:\n",
        "    temp = np.random.rand(len(X_train[0]), n)\n",
        "    Weights.append(temp)\n",
        "\n",
        "    for i in range(1, L-1):\n",
        "      temp = np.random.rand(n, n)\n",
        "      Weights.append(temp)\n",
        "\n",
        "    temp = np.random.rand(n, no_of_classes)\n",
        "    Weights.append(temp)\n",
        "\n",
        "  if choice ==2:\n",
        "    scale = 1/max(1, (2+2)/2 )\n",
        "    limit = math.sqrt(3*scale)\n",
        "\n",
        "    temp = np.random.uniform(-limit, limit, size=(len(X_train[0]),n)) \n",
        "    Weights.append(temp)\n",
        "    for i in range(1, L-1):\n",
        "      temp  = np.random.uniform(-limit, limit, size=(n,n))\n",
        "      Weights.append(temp)\n",
        "\n",
        "    temp = np.random.uniform(-limit, limit, size=(n, no_of_classes)) \n",
        "    Weights.append(temp)\n",
        "\n",
        "  if choice ==3:\n",
        "    temp = np.zeros((len(X_train[0]), n))\n",
        "    Weights.append(temp)\n",
        "\n",
        "    for i in range(1, L-1):\n",
        "      temp = np.zeros(n, n)\n",
        "      Weights.append(temp)\n",
        "\n",
        "    temp = np.zeros((n, no_of_classes))\n",
        "    Weights.append(temp)\n",
        "\n",
        "  \n",
        "  return Weights\n",
        "\n"
      ],
      "metadata": {
        "id": "o4pDXaK65aNO"
      },
      "execution_count": 130,
      "outputs": []
    },
    {
      "cell_type": "code",
      "source": [
        "def biases(choice, n, L, no_of_classes):\n",
        "  \n",
        "  bias = []\n",
        "  np.random.seed(0)\n",
        "\n",
        "  if choice ==1:\n",
        "    for i in range(L-1):\n",
        "      temp = np.random.rand(n)\n",
        "      bias.append(temp)\n",
        "\n",
        "    temp = np.random.rand(no_of_classes)\n",
        "    bias.append(temp)\n",
        "\n",
        "  if choice ==2:\n",
        "    scale = 1/max(1, (2+2)/2 )\n",
        "    limit = math.sqrt(3*scale)\n",
        "    for i in range(L-1):\n",
        "      temp  = np.random.uniform(-limit, limit, size=(n))\n",
        "      bias.append(temp)\n",
        "\n",
        "    temp = np.random.uniform(-limit, limit, size=(no_of_classes)) \n",
        "    bias.append(temp)\n",
        "\n",
        "  if choice ==3:\n",
        "    for i in range(L-1):\n",
        "      temp = np.zeros(n)\n",
        "      bias.append(temp)\n",
        "\n",
        "    temp = np.zeros(no_of_classes)\n",
        "    bias.append(temp)\n",
        "\n",
        "  \n",
        "  return bias\n"
      ],
      "metadata": {
        "id": "Mp2HVC8eUEvK"
      },
      "execution_count": 131,
      "outputs": []
    },
    {
      "cell_type": "code",
      "source": [
        "Weights = weights(choice, n, L, X_train, no_of_classes)"
      ],
      "metadata": {
        "id": "0Ki8Z7zdZE8g"
      },
      "execution_count": 12,
      "outputs": []
    },
    {
      "cell_type": "code",
      "source": [
        "Weights[0]"
      ],
      "metadata": {
        "id": "cvTa7_v0cwEo"
      },
      "execution_count": null,
      "outputs": []
    },
    {
      "cell_type": "code",
      "source": [
        "bias = biases(choice, n, L, no_of_classes)"
      ],
      "metadata": {
        "id": "bNE8AXdi7fB1"
      },
      "execution_count": 13,
      "outputs": []
    },
    {
      "cell_type": "code",
      "source": [
        "a = np.dot(X_train, Weights[0]) + bias[0]"
      ],
      "metadata": {
        "id": "y-O5-7krH74h"
      },
      "execution_count": null,
      "outputs": []
    },
    {
      "cell_type": "code",
      "source": [
        "temp = np.zeros(a.shape)\n",
        "for ele in a:\n",
        "  for num in ele:\n",
        "    num = max(0,num)"
      ],
      "metadata": {
        "id": "L6n_25cZicbt"
      },
      "execution_count": null,
      "outputs": []
    },
    {
      "cell_type": "code",
      "source": [
        "f = [[-1,3],[-2,3]]\n",
        "i=0\n",
        "for ele in f:\n",
        "  j=0\n",
        "  for num in ele:\n",
        "    f[i][j] = max(0,num)\n",
        "    j+=1\n",
        "  i+=1"
      ],
      "metadata": {
        "id": "Das98FqSi7TQ"
      },
      "execution_count": null,
      "outputs": []
    },
    {
      "cell_type": "code",
      "source": [
        "f"
      ],
      "metadata": {
        "colab": {
          "base_uri": "https://localhost:8080/"
        },
        "id": "w7aBq5s-kY2l",
        "outputId": "4fcb0e64-c28f-4c85-95fe-1539b6c8393d"
      },
      "execution_count": null,
      "outputs": [
        {
          "output_type": "execute_result",
          "data": {
            "text/plain": [
              "[[0, 3], [0, 3]]"
            ]
          },
          "metadata": {},
          "execution_count": 54
        }
      ]
    },
    {
      "cell_type": "code",
      "source": [
        "a.shape"
      ],
      "metadata": {
        "colab": {
          "base_uri": "https://localhost:8080/"
        },
        "id": "a9VTs-9MIQdM",
        "outputId": "ea6bb251-9ca3-49a5-a104-7bcebc546843"
      },
      "execution_count": null,
      "outputs": [
        {
          "output_type": "execute_result",
          "data": {
            "text/plain": [
              "(60000, 16)"
            ]
          },
          "metadata": {},
          "execution_count": 16
        }
      ]
    },
    {
      "cell_type": "code",
      "source": [
        "h = sigmoid(a)"
      ],
      "metadata": {
        "id": "FqPQYtYIIW1D"
      },
      "execution_count": null,
      "outputs": []
    },
    {
      "cell_type": "code",
      "source": [
        "h.shape"
      ],
      "metadata": {
        "colab": {
          "base_uri": "https://localhost:8080/"
        },
        "id": "qhNwr42vfCH2",
        "outputId": "f3798048-e243-4929-f6b0-50e066d9b630"
      },
      "execution_count": null,
      "outputs": [
        {
          "output_type": "execute_result",
          "data": {
            "text/plain": [
              "(60000, 16)"
            ]
          },
          "metadata": {},
          "execution_count": 33
        }
      ]
    },
    {
      "cell_type": "code",
      "source": [
        "a = np.dot(X_train[0], Weights[0]) + bias[0]"
      ],
      "metadata": {
        "id": "TlQ5ke30LQ-Z"
      },
      "execution_count": 16,
      "outputs": []
    },
    {
      "cell_type": "code",
      "source": [
        "h = sigmoid(a)"
      ],
      "metadata": {
        "id": "2MuDlWsqLXQ7"
      },
      "execution_count": 24,
      "outputs": []
    },
    {
      "cell_type": "code",
      "source": [
        "a = np.dot(h, Weights[1]) + bias[1]"
      ],
      "metadata": {
        "id": "JOA-dRosLdZL"
      },
      "execution_count": 25,
      "outputs": []
    },
    {
      "cell_type": "code",
      "source": [
        "h = sigmoid(a)"
      ],
      "metadata": {
        "id": "6kCUoCD5vPeS"
      },
      "execution_count": 26,
      "outputs": []
    },
    {
      "cell_type": "code",
      "source": [
        "a = np.dot(h, Weights[2]) + bias[2]"
      ],
      "metadata": {
        "id": "RXXgx5tcvXE-"
      },
      "execution_count": 27,
      "outputs": []
    },
    {
      "cell_type": "code",
      "source": [
        "a.shape"
      ],
      "metadata": {
        "colab": {
          "base_uri": "https://localhost:8080/"
        },
        "id": "kJzTG-wHvhMu",
        "outputId": "94538d5e-2f8f-4e75-c429-881f4278da6a"
      },
      "execution_count": 29,
      "outputs": [
        {
          "output_type": "execute_result",
          "data": {
            "text/plain": [
              "(10,)"
            ]
          },
          "metadata": {},
          "execution_count": 29
        }
      ]
    },
    {
      "cell_type": "code",
      "source": [
        "y_dash = softmax(a)"
      ],
      "metadata": {
        "id": "KJhWOr1mMhAz"
      },
      "execution_count": 32,
      "outputs": []
    },
    {
      "cell_type": "code",
      "source": [
        "y_dash"
      ],
      "metadata": {
        "id": "tMtMzrC4Igup",
        "colab": {
          "base_uri": "https://localhost:8080/"
        },
        "outputId": "c7435131-d232-4f10-d129-7fed998d7b42"
      },
      "execution_count": 39,
      "outputs": [
        {
          "output_type": "execute_result",
          "data": {
            "text/plain": [
              "array([0.00849369, 0.22513162, 0.03178054, 0.16502367, 0.17916811,\n",
              "       0.07638947, 0.04629212, 0.19165303, 0.02780864, 0.04825912])"
            ]
          },
          "metadata": {},
          "execution_count": 39
        }
      ]
    },
    {
      "cell_type": "code",
      "source": [
        "temp = np.zeros(10)\n",
        "temp[y_train[0]] = 1\n",
        "temp"
      ],
      "metadata": {
        "id": "ts0SXgxCOHJi",
        "colab": {
          "base_uri": "https://localhost:8080/"
        },
        "outputId": "276d43c3-56ce-448b-d829-035748e73651"
      },
      "execution_count": 38,
      "outputs": [
        {
          "output_type": "execute_result",
          "data": {
            "text/plain": [
              "array([0., 0., 0., 0., 1., 0., 0., 0., 0., 0.])"
            ]
          },
          "metadata": {},
          "execution_count": 38
        }
      ]
    },
    {
      "cell_type": "code",
      "source": [
        "output_gradient = -(temp - y_dash)"
      ],
      "metadata": {
        "id": "QJ_tojoIOJNR"
      },
      "execution_count": 42,
      "outputs": []
    },
    {
      "cell_type": "code",
      "source": [
        "output_gradient"
      ],
      "metadata": {
        "colab": {
          "base_uri": "https://localhost:8080/"
        },
        "id": "3tDeOpkkfbLl",
        "outputId": "d3b49718-cfda-4f6b-cf5c-d8450f0d0b6d"
      },
      "execution_count": 43,
      "outputs": [
        {
          "output_type": "execute_result",
          "data": {
            "text/plain": [
              "array([ 0.00849369,  0.22513162,  0.03178054,  0.16502367, -0.82083189,\n",
              "        0.07638947,  0.04629212,  0.19165303,  0.02780864,  0.04825912])"
            ]
          },
          "metadata": {},
          "execution_count": 43
        }
      ]
    },
    {
      "cell_type": "code",
      "source": [],
      "metadata": {
        "id": "xlCjieTXred8"
      },
      "execution_count": null,
      "outputs": []
    },
    {
      "cell_type": "code",
      "source": [
        "h = [1,2,3,4]\n",
        "g = [[1,2,3,4],[1,2,3,4]]\n",
        "#np.matmul(h,g)\n",
        "exp_logits = np.exp(h)\n",
        "y_dash = exp_logits / np.sum(exp_logits, axis=0, keepdims=True)\n",
        "y_dash.shape"
      ],
      "metadata": {
        "colab": {
          "base_uri": "https://localhost:8080/"
        },
        "id": "y1hy35rRdCeL",
        "outputId": "0ca2b4f4-7876-4eae-b17b-1e572235f23c"
      },
      "execution_count": null,
      "outputs": [
        {
          "output_type": "execute_result",
          "data": {
            "text/plain": [
              "(4,)"
            ]
          },
          "metadata": {},
          "execution_count": 28
        }
      ]
    },
    {
      "cell_type": "code",
      "source": [
        "l = []\n",
        "l.append(h)\n",
        "l.append(g)"
      ],
      "metadata": {
        "id": "DYTSpFhOA1R-"
      },
      "execution_count": null,
      "outputs": []
    },
    {
      "cell_type": "code",
      "source": [
        "l[1]"
      ],
      "metadata": {
        "colab": {
          "base_uri": "https://localhost:8080/"
        },
        "id": "s9xEJtCdA-oh",
        "outputId": "77e08917-5c18-4b8d-948b-e51288e864e7"
      },
      "execution_count": null,
      "outputs": [
        {
          "output_type": "execute_result",
          "data": {
            "text/plain": [
              "[[1, 2, 3, 4], [1, 2, 3, 4]]"
            ]
          },
          "metadata": {},
          "execution_count": 37
        }
      ]
    },
    {
      "cell_type": "markdown",
      "source": [
        "Activation Functions"
      ],
      "metadata": {
        "id": "SNe2k9o5fJCZ"
      }
    },
    {
      "cell_type": "code",
      "source": [
        "def sigmoid(a):\n",
        "  return 1/(1+np.exp(-a))\n",
        "\n",
        "def tanh(a):\n",
        "  return (np.exp(a)-np.exp(-a))/(np.exp(a)+np.exp(-a))\n",
        "\n",
        "def ReLu(a):\n",
        "  i=0\n",
        "  for ele in a:\n",
        "    j=0\n",
        "    for num in ele:\n",
        "      a[i][j] = max(0,num)\n",
        "      j+=1\n",
        "    i+=1\n",
        "  return a\n",
        "\n",
        "def softmax(a):\n",
        "  exp_logits = np.exp(a)\n",
        "  return exp_logits / np.sum(exp_logits, axis=0, keepdims=True)   \n",
        "  \n",
        "def der_sigmoid(a):\n",
        "  return sigmoid(a)*(1-sigmoid(a))\n",
        "\n",
        "def der_tanh(a):\n",
        "  return 1-(tanh(a)*tanh(a))\n",
        "\n",
        "def der_ReLu(a):\n",
        "\n",
        "  # it will create a matrix of same dimension as of a.\n",
        "  gradient = np.zeros_like(a)  \n",
        "  # sets the entries of gradient to 1 where the corresponding entries of x>=0\n",
        "  gradient[a >= 0] = 1\n",
        "  return gradient"
      ],
      "metadata": {
        "id": "zQeYcLR3eZXr"
      },
      "execution_count": 31,
      "outputs": []
    },
    {
      "cell_type": "code",
      "source": [
        "1-np.zeros((1,2))"
      ],
      "metadata": {
        "colab": {
          "base_uri": "https://localhost:8080/"
        },
        "id": "n5A_K8njGqLb",
        "outputId": "f0de60c4-bfe0-450e-d05a-662cf60d4cb3"
      },
      "execution_count": null,
      "outputs": [
        {
          "output_type": "execute_result",
          "data": {
            "text/plain": [
              "array([[1., 1.]])"
            ]
          },
          "metadata": {},
          "execution_count": 114
        }
      ]
    },
    {
      "cell_type": "markdown",
      "source": [
        "Forward Propagation"
      ],
      "metadata": {
        "id": "MRsgs5EJypw4"
      }
    },
    {
      "cell_type": "code",
      "source": [
        "def forward_propagation(Weights, bias, h, L):\n",
        "  \n",
        "  a_out = []\n",
        "  h_out = []\n",
        "  h_out.append(h)\n",
        "  \n",
        "  ## for hidden layers\n",
        "  for k in range(L-1):\n",
        "    a = np.dot(h, Weights[k]) + bias[k]\n",
        "    a_out.append(a)\n",
        "    ## default activation function is sigmoid \n",
        "    h = sigmoid(a)\n",
        "    h_out.append(h)\n",
        "\n",
        "  ## In outer layer softmax function\n",
        "  a = np.dot(h, Weights[L-1]) + bias[L-1]\n",
        "  a_out.append(a)\n",
        "  y_dash = softmax(a)\n",
        "  \n",
        "\n",
        "  return a_out, h_out, y_dash\n"
      ],
      "metadata": {
        "id": "jOypoQjEt81D"
      },
      "execution_count": 44,
      "outputs": []
    },
    {
      "cell_type": "code",
      "source": [
        "a_out, h_out, y_dash = forward_propagation(Weights, bias, X_train[0], L)"
      ],
      "metadata": {
        "id": "YIq1GPTegFYU"
      },
      "execution_count": 46,
      "outputs": []
    },
    {
      "cell_type": "code",
      "source": [
        "sum(-np.log(y_dash))"
      ],
      "metadata": {
        "colab": {
          "base_uri": "https://localhost:8080/"
        },
        "id": "e7zoEXM3k3iU",
        "outputId": "85941904-ca5e-47e2-d19d-92392497c90c"
      },
      "execution_count": 48,
      "outputs": [
        {
          "output_type": "execute_result",
          "data": {
            "text/plain": [
              "27.13984216418111"
            ]
          },
          "metadata": {},
          "execution_count": 48
        }
      ]
    },
    {
      "cell_type": "code",
      "source": [
        "len(h_out)"
      ],
      "metadata": {
        "colab": {
          "base_uri": "https://localhost:8080/"
        },
        "id": "VhaPO08tvrBj",
        "outputId": "1232d4ce-91de-4c88-ec93-df26ecf807fd"
      },
      "execution_count": 52,
      "outputs": [
        {
          "output_type": "execute_result",
          "data": {
            "text/plain": [
              "3"
            ]
          },
          "metadata": {},
          "execution_count": 52
        }
      ]
    },
    {
      "cell_type": "markdown",
      "source": [
        "Backward propagation"
      ],
      "metadata": {
        "id": "z2DZ8Ewi05Nn"
      }
    },
    {
      "cell_type": "code",
      "source": [
        "i=0\n",
        "y_train_modified = np.zeros((len(y_train), 10))\n",
        "for value in y_train:\n",
        "  temp = np.zeros(10)\n",
        "  temp[value] = 1\n",
        "  y_train_modified[i] = temp\n",
        "  i+=1"
      ],
      "metadata": {
        "id": "5ut0TxzqoSj8"
      },
      "execution_count": 33,
      "outputs": []
    },
    {
      "cell_type": "code",
      "source": [
        "output_gradient = -(y_train_modified - y_dash)"
      ],
      "metadata": {
        "id": "VoE-TjbjoYwd"
      },
      "execution_count": 34,
      "outputs": []
    },
    {
      "cell_type": "code",
      "source": [
        "output_gradient.shape"
      ],
      "metadata": {
        "colab": {
          "base_uri": "https://localhost:8080/"
        },
        "id": "H5BqNNAvtLWb",
        "outputId": "3e5635eb-f88e-4d84-9107-10d7477adf2c"
      },
      "execution_count": null,
      "outputs": [
        {
          "output_type": "execute_result",
          "data": {
            "text/plain": [
              "(60000, 10)"
            ]
          },
          "metadata": {},
          "execution_count": 39
        }
      ]
    },
    {
      "cell_type": "code",
      "source": [
        "h_out[2].reshape(1,len(h_out[2])).shape"
      ],
      "metadata": {
        "colab": {
          "base_uri": "https://localhost:8080/"
        },
        "id": "2Q-zMO_gtRNL",
        "outputId": "8581e3a8-fbfd-445e-bcc0-e8a10dafe3a0"
      },
      "execution_count": 65,
      "outputs": [
        {
          "output_type": "execute_result",
          "data": {
            "text/plain": [
              "(1, 16)"
            ]
          },
          "metadata": {},
          "execution_count": 65
        }
      ]
    },
    {
      "cell_type": "code",
      "source": [
        "delta_W = [0]*L\n",
        "delta_b = [0]*L"
      ],
      "metadata": {
        "id": "5oDBDfbjuqye"
      },
      "execution_count": 35,
      "outputs": []
    },
    {
      "cell_type": "code",
      "source": [
        "d = np.dot(h_out[2].T, output_gradient)"
      ],
      "metadata": {
        "id": "yGIdcvfHocQV"
      },
      "execution_count": 36,
      "outputs": []
    },
    {
      "cell_type": "code",
      "source": [
        "delta_W[2] = d\n",
        "delta_b[2] = output_gradient"
      ],
      "metadata": {
        "id": "SxTtvlJKus9v"
      },
      "execution_count": 37,
      "outputs": []
    },
    {
      "cell_type": "code",
      "source": [
        "weight = Weights[2]\n",
        "weight.shape"
      ],
      "metadata": {
        "colab": {
          "base_uri": "https://localhost:8080/"
        },
        "id": "yfmNJyjzvKqz",
        "outputId": "fb8db2d9-2617-4f85-a295-700fd1e78470"
      },
      "execution_count": 39,
      "outputs": [
        {
          "output_type": "execute_result",
          "data": {
            "text/plain": [
              "(16, 10)"
            ]
          },
          "metadata": {},
          "execution_count": 39
        }
      ]
    },
    {
      "cell_type": "code",
      "source": [
        "h_gradient = np.dot(output_gradient, weight.T)"
      ],
      "metadata": {
        "id": "9aX29d-ZvePb"
      },
      "execution_count": 40,
      "outputs": []
    },
    {
      "cell_type": "code",
      "source": [
        "s= der_sigmoid(a_out[1])"
      ],
      "metadata": {
        "id": "G56Fbc_DwUqw"
      },
      "execution_count": 41,
      "outputs": []
    },
    {
      "cell_type": "code",
      "source": [
        "h_gradient.shape, s.shape"
      ],
      "metadata": {
        "colab": {
          "base_uri": "https://localhost:8080/"
        },
        "id": "fY4NuPBewMKj",
        "outputId": "a0d275c6-95fb-4e42-8835-1ad4c9ff780c"
      },
      "execution_count": 42,
      "outputs": [
        {
          "output_type": "execute_result",
          "data": {
            "text/plain": [
              "((54000, 16), (54000, 16))"
            ]
          },
          "metadata": {},
          "execution_count": 42
        }
      ]
    },
    {
      "cell_type": "code",
      "source": [
        "output_gradient = np.multiply(h_gradient, der_sigmoid(a_out[1]))"
      ],
      "metadata": {
        "id": "8A6t2QnBvqAs"
      },
      "execution_count": 43,
      "outputs": []
    },
    {
      "cell_type": "code",
      "source": [
        "output_gradient.shape"
      ],
      "metadata": {
        "colab": {
          "base_uri": "https://localhost:8080/"
        },
        "id": "T1FCD37dwqzb",
        "outputId": "76330077-72dc-45fe-b88c-64a04eb79d84"
      },
      "execution_count": 44,
      "outputs": [
        {
          "output_type": "execute_result",
          "data": {
            "text/plain": [
              "(54000, 16)"
            ]
          },
          "metadata": {},
          "execution_count": 44
        }
      ]
    },
    {
      "cell_type": "code",
      "source": [
        "h_out[1].shape, output_gradient.shape"
      ],
      "metadata": {
        "colab": {
          "base_uri": "https://localhost:8080/"
        },
        "id": "zZpbrbdCxxnO",
        "outputId": "04ded8bd-604e-41cf-be77-8640b107793a"
      },
      "execution_count": 45,
      "outputs": [
        {
          "output_type": "execute_result",
          "data": {
            "text/plain": [
              "((54000, 16), (54000, 16))"
            ]
          },
          "metadata": {},
          "execution_count": 45
        }
      ]
    },
    {
      "cell_type": "code",
      "source": [
        "W_gradient = np.dot(h_out[1].T, output_gradient)"
      ],
      "metadata": {
        "id": "htGtDF6Xu1Wi"
      },
      "execution_count": 46,
      "outputs": []
    },
    {
      "cell_type": "code",
      "source": [
        "W_gradient.shape"
      ],
      "metadata": {
        "colab": {
          "base_uri": "https://localhost:8080/"
        },
        "id": "W0FPCCS0yK8l",
        "outputId": "29306e27-41a2-407e-af47-5661cfd88da1"
      },
      "execution_count": 47,
      "outputs": [
        {
          "output_type": "execute_result",
          "data": {
            "text/plain": [
              "(16, 16)"
            ]
          },
          "metadata": {},
          "execution_count": 47
        }
      ]
    },
    {
      "cell_type": "code",
      "source": [
        "delta_W[1] = W_gradient\n",
        "delta_b[1] = output_gradient"
      ],
      "metadata": {
        "id": "L_WcZOCruQ9L"
      },
      "execution_count": 48,
      "outputs": []
    },
    {
      "cell_type": "code",
      "source": [
        "output_gradient.shape, weight.shape"
      ],
      "metadata": {
        "colab": {
          "base_uri": "https://localhost:8080/"
        },
        "id": "dDmzr8S31HKE",
        "outputId": "8a473544-b0ee-4f4c-ba47-ae26aefa3667"
      },
      "execution_count": null,
      "outputs": [
        {
          "output_type": "execute_result",
          "data": {
            "text/plain": [
              "((60000, 16), (16, 16))"
            ]
          },
          "metadata": {},
          "execution_count": 78
        }
      ]
    },
    {
      "cell_type": "code",
      "source": [
        "weight = Weights[1]\n"
      ],
      "metadata": {
        "id": "lCdupXJB0zzY"
      },
      "execution_count": 49,
      "outputs": []
    },
    {
      "cell_type": "code",
      "source": [
        "h_gradient = np.dot(output_gradient, weight.T)"
      ],
      "metadata": {
        "id": "cmXtc0Ux1Vqb"
      },
      "execution_count": 50,
      "outputs": []
    },
    {
      "cell_type": "code",
      "source": [
        "h_gradient.shape, der_sigmoid(a_out[0]).shape"
      ],
      "metadata": {
        "colab": {
          "base_uri": "https://localhost:8080/"
        },
        "id": "QVaZ11XE1bid",
        "outputId": "4a0c4ea7-0299-4615-c42f-76e7cdf33429"
      },
      "execution_count": null,
      "outputs": [
        {
          "output_type": "execute_result",
          "data": {
            "text/plain": [
              "((60000, 16), (60000, 16))"
            ]
          },
          "metadata": {},
          "execution_count": 82
        }
      ]
    },
    {
      "cell_type": "code",
      "source": [
        "output_gradient = np.multiply(h_gradient, der_sigmoid(a_out[0]))"
      ],
      "metadata": {
        "id": "DCcV4iIS1fq0"
      },
      "execution_count": 51,
      "outputs": []
    },
    {
      "cell_type": "code",
      "source": [
        "output_gradient.shape, (h_out[0].T).shape"
      ],
      "metadata": {
        "colab": {
          "base_uri": "https://localhost:8080/"
        },
        "id": "wKHLN22n1zYC",
        "outputId": "91823fb8-8cac-41a2-f74b-41a5cad03254"
      },
      "execution_count": 52,
      "outputs": [
        {
          "output_type": "execute_result",
          "data": {
            "text/plain": [
              "((54000, 16), (784, 54000))"
            ]
          },
          "metadata": {},
          "execution_count": 52
        }
      ]
    },
    {
      "cell_type": "code",
      "source": [
        "W_gradient = np.dot(h_out[0].T, output_gradient)"
      ],
      "metadata": {
        "id": "2gelY39E11od"
      },
      "execution_count": 53,
      "outputs": []
    },
    {
      "cell_type": "code",
      "source": [
        "W_gradient*0.001"
      ],
      "metadata": {
        "id": "vT9E97A22bF7"
      },
      "execution_count": null,
      "outputs": []
    },
    {
      "cell_type": "code",
      "source": [
        "delta_W[0] = W_gradient\n",
        "delta_b[0] = output_gradient"
      ],
      "metadata": {
        "id": "TbT7z2yP2OBn"
      },
      "execution_count": 54,
      "outputs": []
    },
    {
      "cell_type": "code",
      "source": [
        "delta_W = "
      ],
      "metadata": {
        "colab": {
          "base_uri": "https://localhost:8080/"
        },
        "id": "Hp0TzfKn-G-k",
        "outputId": "212cc16a-f917-43b8-a7a9-71fc4a114772"
      },
      "execution_count": null,
      "outputs": [
        {
          "output_type": "execute_result",
          "data": {
            "text/plain": [
              "list"
            ]
          },
          "metadata": {},
          "execution_count": 97
        }
      ]
    },
    {
      "cell_type": "code",
      "source": [
        "v = np.multiply(delta_W, [0.01,0.01,0.01])"
      ],
      "metadata": {
        "id": "WLZ_Z0GU2eqc",
        "colab": {
          "base_uri": "https://localhost:8080/"
        },
        "outputId": "40111b1f-a507-48c6-d4ce-c4003b52d646"
      },
      "execution_count": 63,
      "outputs": [
        {
          "output_type": "stream",
          "name": "stderr",
          "text": [
            "<ipython-input-63-34b6f8c8877a>:1: VisibleDeprecationWarning: Creating an ndarray from ragged nested sequences (which is a list-or-tuple of lists-or-tuples-or ndarrays with different lengths or shapes) is deprecated. If you meant to do this, you must specify 'dtype=object' when creating the ndarray.\n",
            "  v = np.multiply(delta_W, [0.01,0.01,0.01])\n"
          ]
        }
      ]
    },
    {
      "cell_type": "code",
      "source": [
        "s = [np.ones((2,2)),np.ones((2,3)),np.ones((3,2))]\n",
        "i = np.multiply(s, [0.01,0.01,0.01])"
      ],
      "metadata": {
        "id": "pL4Kvj7MohCL",
        "colab": {
          "base_uri": "https://localhost:8080/"
        },
        "outputId": "2cf3bb41-83bf-4085-ab16-eaa22020de40"
      },
      "execution_count": 62,
      "outputs": [
        {
          "output_type": "stream",
          "name": "stderr",
          "text": [
            "<ipython-input-62-9fe08c1e01cd>:2: VisibleDeprecationWarning: Creating an ndarray from ragged nested sequences (which is a list-or-tuple of lists-or-tuples-or ndarrays with different lengths or shapes) is deprecated. If you meant to do this, you must specify 'dtype=object' when creating the ndarray.\n",
            "  i = np.multiply(s, [0.01,0.01,0.01])\n"
          ]
        }
      ]
    },
    {
      "cell_type": "code",
      "source": [
        "v[0].shape"
      ],
      "metadata": {
        "colab": {
          "base_uri": "https://localhost:8080/"
        },
        "id": "GpRLhNS_R7sW",
        "outputId": "51459489-0fb8-439b-ea59-a8bd2b974c08"
      },
      "execution_count": 66,
      "outputs": [
        {
          "output_type": "execute_result",
          "data": {
            "text/plain": [
              "(784, 16)"
            ]
          },
          "metadata": {},
          "execution_count": 66
        }
      ]
    },
    {
      "cell_type": "code",
      "source": [
        "np.ones((2,2,3))*0.01"
      ],
      "metadata": {
        "colab": {
          "base_uri": "https://localhost:8080/"
        },
        "id": "ZNk5XFdICJIb",
        "outputId": "ae604b95-1576-4f3f-c094-07202cacaf94"
      },
      "execution_count": 68,
      "outputs": [
        {
          "output_type": "execute_result",
          "data": {
            "text/plain": [
              "array([[[0.01, 0.01, 0.01],\n",
              "        [0.01, 0.01, 0.01]],\n",
              "\n",
              "       [[0.01, 0.01, 0.01],\n",
              "        [0.01, 0.01, 0.01]]])"
            ]
          },
          "metadata": {},
          "execution_count": 68
        }
      ]
    },
    {
      "cell_type": "code",
      "source": [
        "p = np.dot(output_gradient.reshape(len(output_gradient),1), h_out[2].reshape(1,len(h_out[2])))"
      ],
      "metadata": {
        "id": "36C-G2KsyZnl"
      },
      "execution_count": 62,
      "outputs": []
    },
    {
      "cell_type": "code",
      "source": [
        "p.shape"
      ],
      "metadata": {
        "colab": {
          "base_uri": "https://localhost:8080/"
        },
        "id": "MTFLlx3J0XBF",
        "outputId": "188ac67e-b7ac-476c-fa22-5ca3df492dbe"
      },
      "execution_count": 63,
      "outputs": [
        {
          "output_type": "execute_result",
          "data": {
            "text/plain": [
              "(10, 16)"
            ]
          },
          "metadata": {},
          "execution_count": 63
        }
      ]
    },
    {
      "cell_type": "code",
      "source": [
        "def backward_propagation(a_out, h_out, y_train, y_dash, Weights, L):\n",
        "\n",
        "  delta_W = [0]*L\n",
        "  delta_b = [0]*L\n",
        "\n",
        "  \n",
        "  \n",
        "  ## change each y_train into an array of 10 values\n",
        "  y_train_modified = np.zeros( 10)\n",
        "  y_train_modified[y_train] = 1\n",
        "    \n",
        "  output_gradient = -(y_train_modified - y_dash)\n",
        "\n",
        "  for k in range(L, 0, -1):\n",
        "\n",
        "    ## compute gradients w.r.t parameters\n",
        "    W_gradient = np.dot(h_out[k-1].reshape(len(h_out[k-1]),1), output_gradient.reshape(1, len(output_gradient)))\n",
        "    delta_W[k-1] = W_gradient\n",
        "\n",
        "    b_gradients = output_gradient\n",
        "    delta_b[k-1] = b_gradients\n",
        "   \n",
        "    if k==1:\n",
        "      continue\n",
        "    ## compute gradients w.r.t layer below\n",
        "    weight = Weights[k-1]\n",
        "    h_gradient = np.dot(output_gradient, weight.T)\n",
        "\n",
        "    ## compute the gradient of pre activation layer\n",
        "    output_gradient = np.multiply(h_gradient, der_sigmoid(a_out[k-2]))\n",
        "\n",
        "  return delta_W, delta_b\n",
        "\n"
      ],
      "metadata": {
        "id": "Z6s4dnd6ykc4"
      },
      "execution_count": 117,
      "outputs": []
    },
    {
      "cell_type": "code",
      "source": [
        "v  = np.dot(h_out[2].reshape(len(h_out[2]),1), output_gradient.reshape(1,len(output_gradient)))"
      ],
      "metadata": {
        "id": "2D2rLJ7u1PKQ"
      },
      "execution_count": 115,
      "outputs": []
    },
    {
      "cell_type": "code",
      "source": [
        "v.shape"
      ],
      "metadata": {
        "colab": {
          "base_uri": "https://localhost:8080/"
        },
        "id": "UstDsmM97cYy",
        "outputId": "c535bdd7-c08a-4d4f-ab58-ac51b88250f5"
      },
      "execution_count": 116,
      "outputs": [
        {
          "output_type": "execute_result",
          "data": {
            "text/plain": [
              "(16, 10)"
            ]
          },
          "metadata": {},
          "execution_count": 116
        }
      ]
    },
    {
      "cell_type": "code",
      "source": [
        "delta_W, delta_b = backward_propagation(a_out, h_out, y_train[0], y_dash, Weights, L)"
      ],
      "metadata": {
        "id": "ndHhh4Ze2Bea"
      },
      "execution_count": 118,
      "outputs": []
    },
    {
      "cell_type": "code",
      "source": [
        "\n",
        "a = [1,2,3,4]\n"
      ],
      "metadata": {
        "id": "2AXNnDHZ-06H"
      },
      "execution_count": 100,
      "outputs": []
    },
    {
      "cell_type": "markdown",
      "source": [
        "Gradient Descent Algorithm"
      ],
      "metadata": {
        "id": "ddXejHVcSfFP"
      }
    },
    {
      "cell_type": "code",
      "source": [],
      "metadata": {
        "id": "mAM0Ch88HI0D"
      },
      "execution_count": null,
      "outputs": []
    },
    {
      "cell_type": "code",
      "source": [
        "def gradient_descent(learning_rate, Weights, bias, h, L, y_train):\n",
        "\n",
        "  dW = weights(3, n, L, X_train, no_of_classes)\n",
        "  for x,y in zip(X_train,y_train):\n",
        "\n",
        "    ## Forward propagation\n",
        "    a_out, h_out, y_dash = forward_propagation(Weights, bias, x, L)\n",
        "\n",
        "    ## Backward Propagation\n",
        "    delta_W, delta_b = backward_propagation(a_out, h_out, y, y_dash, Weights, L)\n",
        "\n",
        "  ## Weights and biases updates\n",
        "   # Weights updates\n",
        "  Weights = Weights - np.multiply(delta_W, [learning_rate]*L)\n",
        "\n",
        "   # Biases updates\n",
        "  bias = bias - np.multiply(delta_b, [learning_rate]*(L))\n",
        "\n"
      ],
      "metadata": {
        "id": "f7-bWfssBR_3"
      },
      "execution_count": 86,
      "outputs": []
    },
    {
      "cell_type": "code",
      "source": [
        "dW = weights(3, n, L, X_train, no_of_classes)"
      ],
      "metadata": {
        "colab": {
          "base_uri": "https://localhost:8080/",
          "height": 294
        },
        "id": "zWi9BTJY2nCy",
        "outputId": "d8a741af-cb44-4c13-af93-5b905bab7318"
      },
      "execution_count": 132,
      "outputs": [
        {
          "output_type": "error",
          "ename": "TypeError",
          "evalue": "ignored",
          "traceback": [
            "\u001b[0;31m---------------------------------------------------------------------------\u001b[0m",
            "\u001b[0;31mTypeError\u001b[0m                                 Traceback (most recent call last)",
            "\u001b[0;32m<ipython-input-132-748da7f9142e>\u001b[0m in \u001b[0;36m<module>\u001b[0;34m\u001b[0m\n\u001b[0;32m----> 1\u001b[0;31m \u001b[0mdW\u001b[0m \u001b[0;34m=\u001b[0m \u001b[0mweights\u001b[0m\u001b[0;34m(\u001b[0m\u001b[0;36m3\u001b[0m\u001b[0;34m,\u001b[0m \u001b[0mn\u001b[0m\u001b[0;34m,\u001b[0m \u001b[0mL\u001b[0m\u001b[0;34m,\u001b[0m \u001b[0mX_train\u001b[0m\u001b[0;34m,\u001b[0m \u001b[0mno_of_classes\u001b[0m\u001b[0;34m)\u001b[0m\u001b[0;34m\u001b[0m\u001b[0;34m\u001b[0m\u001b[0m\n\u001b[0m",
            "\u001b[0;32m<ipython-input-130-2c96cd8b308a>\u001b[0m in \u001b[0;36mweights\u001b[0;34m(choice, n, L, X_train, no_of_classes)\u001b[0m\n\u001b[1;32m     29\u001b[0m \u001b[0;34m\u001b[0m\u001b[0m\n\u001b[1;32m     30\u001b[0m   \u001b[0;32mif\u001b[0m \u001b[0mchoice\u001b[0m \u001b[0;34m==\u001b[0m\u001b[0;36m3\u001b[0m\u001b[0;34m:\u001b[0m\u001b[0;34m\u001b[0m\u001b[0;34m\u001b[0m\u001b[0m\n\u001b[0;32m---> 31\u001b[0;31m     \u001b[0mtemp\u001b[0m \u001b[0;34m=\u001b[0m \u001b[0mnp\u001b[0m\u001b[0;34m.\u001b[0m\u001b[0mzeros\u001b[0m\u001b[0;34m(\u001b[0m\u001b[0;34m(\u001b[0m\u001b[0mlen\u001b[0m\u001b[0;34m(\u001b[0m\u001b[0mX_train\u001b[0m\u001b[0;34m[\u001b[0m\u001b[0;36m0\u001b[0m\u001b[0;34m]\u001b[0m\u001b[0;34m)\u001b[0m\u001b[0;34m,\u001b[0m \u001b[0mn\u001b[0m\u001b[0;34m)\u001b[0m\u001b[0;34m)\u001b[0m\u001b[0;34m\u001b[0m\u001b[0;34m\u001b[0m\u001b[0m\n\u001b[0m\u001b[1;32m     32\u001b[0m     \u001b[0mWeights\u001b[0m\u001b[0;34m.\u001b[0m\u001b[0mappend\u001b[0m\u001b[0;34m(\u001b[0m\u001b[0mtemp\u001b[0m\u001b[0;34m)\u001b[0m\u001b[0;34m\u001b[0m\u001b[0;34m\u001b[0m\u001b[0m\n\u001b[1;32m     33\u001b[0m \u001b[0;34m\u001b[0m\u001b[0m\n",
            "\u001b[0;31mTypeError\u001b[0m: only integer scalar arrays can be converted to a scalar index"
          ]
        }
      ]
    },
    {
      "cell_type": "code",
      "source": [
        "delta_b[2].shape"
      ],
      "metadata": {
        "colab": {
          "base_uri": "https://localhost:8080/"
        },
        "id": "Uyys4f4nYRSy",
        "outputId": "56655491-996e-48fb-e889-c4468c400e52"
      },
      "execution_count": 95,
      "outputs": [
        {
          "output_type": "execute_result",
          "data": {
            "text/plain": [
              "(54000, 10)"
            ]
          },
          "metadata": {},
          "execution_count": 95
        }
      ]
    },
    {
      "cell_type": "code",
      "source": [
        "p = np.multiply(delta_W, [0.0001]*L)"
      ],
      "metadata": {
        "colab": {
          "base_uri": "https://localhost:8080/"
        },
        "id": "IRN62wqCTduU",
        "outputId": "51523874-9af8-4ce4-f41a-33f302729e04"
      },
      "execution_count": 93,
      "outputs": [
        {
          "output_type": "stream",
          "name": "stderr",
          "text": [
            "<ipython-input-93-465e1607647a>:1: VisibleDeprecationWarning: Creating an ndarray from ragged nested sequences (which is a list-or-tuple of lists-or-tuples-or ndarrays with different lengths or shapes) is deprecated. If you meant to do this, you must specify 'dtype=object' when creating the ndarray.\n",
            "  p = np.multiply(delta_W, [0.0001]*L)\n"
          ]
        }
      ]
    },
    {
      "cell_type": "code",
      "source": [],
      "metadata": {
        "colab": {
          "base_uri": "https://localhost:8080/"
        },
        "id": "AFDerboiPk9t",
        "outputId": "580e8aac-a631-40d5-9f23-285840342586"
      },
      "execution_count": 58,
      "outputs": [
        {
          "output_type": "execute_result",
          "data": {
            "text/plain": [
              "((2, 54000, 16), 2)"
            ]
          },
          "metadata": {},
          "execution_count": 58
        }
      ]
    },
    {
      "cell_type": "code",
      "source": [
        "s = np.multiply(np.ones((2,1000,8)), [0.0001]*(2))"
      ],
      "metadata": {
        "colab": {
          "base_uri": "https://localhost:8080/",
          "height": 169
        },
        "id": "3Eju1BaDRGdW",
        "outputId": "fc0b959f-57c9-4c12-bb0c-bd381dc9c521"
      },
      "execution_count": 71,
      "outputs": [
        {
          "output_type": "error",
          "ename": "ValueError",
          "evalue": "ignored",
          "traceback": [
            "\u001b[0;31m---------------------------------------------------------------------------\u001b[0m",
            "\u001b[0;31mValueError\u001b[0m                                Traceback (most recent call last)",
            "\u001b[0;32m<ipython-input-71-322af83dc9ef>\u001b[0m in \u001b[0;36m<module>\u001b[0;34m\u001b[0m\n\u001b[0;32m----> 1\u001b[0;31m \u001b[0ms\u001b[0m \u001b[0;34m=\u001b[0m \u001b[0mnp\u001b[0m\u001b[0;34m.\u001b[0m\u001b[0mmultiply\u001b[0m\u001b[0;34m(\u001b[0m\u001b[0mnp\u001b[0m\u001b[0;34m.\u001b[0m\u001b[0mones\u001b[0m\u001b[0;34m(\u001b[0m\u001b[0;34m(\u001b[0m\u001b[0;36m2\u001b[0m\u001b[0;34m,\u001b[0m\u001b[0;36m1000\u001b[0m\u001b[0;34m,\u001b[0m\u001b[0;36m8\u001b[0m\u001b[0;34m)\u001b[0m\u001b[0;34m)\u001b[0m\u001b[0;34m,\u001b[0m \u001b[0;34m[\u001b[0m\u001b[0;36m0.0001\u001b[0m\u001b[0;34m]\u001b[0m\u001b[0;34m*\u001b[0m\u001b[0;34m(\u001b[0m\u001b[0;36m2\u001b[0m\u001b[0;34m)\u001b[0m\u001b[0;34m)\u001b[0m\u001b[0;34m\u001b[0m\u001b[0;34m\u001b[0m\u001b[0m\n\u001b[0m",
            "\u001b[0;31mValueError\u001b[0m: operands could not be broadcast together with shapes (2,1000,8) (2,) "
          ]
        }
      ]
    },
    {
      "cell_type": "code",
      "source": [
        "[0.0001]*(2)"
      ],
      "metadata": {
        "colab": {
          "base_uri": "https://localhost:8080/"
        },
        "id": "00rca1tnSPtY",
        "outputId": "8989989a-3875-4897-84e0-339033480be3"
      },
      "execution_count": 67,
      "outputs": [
        {
          "output_type": "execute_result",
          "data": {
            "text/plain": [
              "[0.0001, 0.0001]"
            ]
          },
          "metadata": {},
          "execution_count": 67
        }
      ]
    },
    {
      "cell_type": "code",
      "source": [
        "for epoch in range(10):\n",
        "  \n",
        "  gradient_descent(0.0001, Weights, bias, X_train, L, y_train)\n",
        "  print(epoch, sum(sum(-np.log(y_dash))))\n"
      ],
      "metadata": {
        "colab": {
          "base_uri": "https://localhost:8080/",
          "height": 404
        },
        "id": "L4BlX1C6JA_F",
        "outputId": "ec2a063f-aff9-4e3f-ddcf-b37cae9e8af3"
      },
      "execution_count": 88,
      "outputs": [
        {
          "output_type": "stream",
          "name": "stderr",
          "text": [
            "<ipython-input-86-8bf1c73ee0ae>:11: VisibleDeprecationWarning: Creating an ndarray from ragged nested sequences (which is a list-or-tuple of lists-or-tuples-or ndarrays with different lengths or shapes) is deprecated. If you meant to do this, you must specify 'dtype=object' when creating the ndarray.\n",
            "  Weights = Weights - np.multiply(delta_W, [learning_rate]*L)\n",
            "<ipython-input-86-8bf1c73ee0ae>:14: VisibleDeprecationWarning: Creating an ndarray from ragged nested sequences (which is a list-or-tuple of lists-or-tuples-or ndarrays with different lengths or shapes) is deprecated. If you meant to do this, you must specify 'dtype=object' when creating the ndarray.\n",
            "  bias = bias - np.multiply(delta_b, [learning_rate]*(L))\n"
          ]
        },
        {
          "output_type": "error",
          "ename": "ValueError",
          "evalue": "ignored",
          "traceback": [
            "\u001b[0;31m---------------------------------------------------------------------------\u001b[0m",
            "\u001b[0;31mValueError\u001b[0m                                Traceback (most recent call last)",
            "\u001b[0;32m<ipython-input-88-8b9dc8a546b7>\u001b[0m in \u001b[0;36m<module>\u001b[0;34m\u001b[0m\n\u001b[1;32m      1\u001b[0m \u001b[0;32mfor\u001b[0m \u001b[0mepoch\u001b[0m \u001b[0;32min\u001b[0m \u001b[0mrange\u001b[0m\u001b[0;34m(\u001b[0m\u001b[0;36m10\u001b[0m\u001b[0;34m)\u001b[0m\u001b[0;34m:\u001b[0m\u001b[0;34m\u001b[0m\u001b[0;34m\u001b[0m\u001b[0m\n\u001b[0;32m----> 2\u001b[0;31m   \u001b[0mgradient_descent\u001b[0m\u001b[0;34m(\u001b[0m\u001b[0;36m0.0001\u001b[0m\u001b[0;34m,\u001b[0m \u001b[0mWeights\u001b[0m\u001b[0;34m,\u001b[0m \u001b[0mbias\u001b[0m\u001b[0;34m,\u001b[0m \u001b[0mX_train\u001b[0m\u001b[0;34m,\u001b[0m \u001b[0mL\u001b[0m\u001b[0;34m,\u001b[0m \u001b[0my_train\u001b[0m\u001b[0;34m)\u001b[0m\u001b[0;34m\u001b[0m\u001b[0;34m\u001b[0m\u001b[0m\n\u001b[0m\u001b[1;32m      3\u001b[0m   \u001b[0mprint\u001b[0m\u001b[0;34m(\u001b[0m\u001b[0mepoch\u001b[0m\u001b[0;34m,\u001b[0m \u001b[0msum\u001b[0m\u001b[0;34m(\u001b[0m\u001b[0msum\u001b[0m\u001b[0;34m(\u001b[0m\u001b[0;34m-\u001b[0m\u001b[0mnp\u001b[0m\u001b[0;34m.\u001b[0m\u001b[0mlog\u001b[0m\u001b[0;34m(\u001b[0m\u001b[0my_dash\u001b[0m\u001b[0;34m)\u001b[0m\u001b[0;34m)\u001b[0m\u001b[0;34m)\u001b[0m\u001b[0;34m)\u001b[0m\u001b[0;34m\u001b[0m\u001b[0;34m\u001b[0m\u001b[0m\n",
            "\u001b[0;32m<ipython-input-86-8bf1c73ee0ae>\u001b[0m in \u001b[0;36mgradient_descent\u001b[0;34m(learning_rate, Weights, bias, h, L, y_train)\u001b[0m\n\u001b[1;32m     12\u001b[0m \u001b[0;34m\u001b[0m\u001b[0m\n\u001b[1;32m     13\u001b[0m    \u001b[0;31m# Biases updates\u001b[0m\u001b[0;34m\u001b[0m\u001b[0;34m\u001b[0m\u001b[0;34m\u001b[0m\u001b[0m\n\u001b[0;32m---> 14\u001b[0;31m   \u001b[0mbias\u001b[0m \u001b[0;34m=\u001b[0m \u001b[0mbias\u001b[0m \u001b[0;34m-\u001b[0m \u001b[0mnp\u001b[0m\u001b[0;34m.\u001b[0m\u001b[0mmultiply\u001b[0m\u001b[0;34m(\u001b[0m\u001b[0mdelta_b\u001b[0m\u001b[0;34m,\u001b[0m \u001b[0;34m[\u001b[0m\u001b[0mlearning_rate\u001b[0m\u001b[0;34m]\u001b[0m\u001b[0;34m*\u001b[0m\u001b[0;34m(\u001b[0m\u001b[0mL\u001b[0m\u001b[0;34m)\u001b[0m\u001b[0;34m)\u001b[0m\u001b[0;34m\u001b[0m\u001b[0;34m\u001b[0m\u001b[0m\n\u001b[0m\u001b[1;32m     15\u001b[0m \u001b[0;34m\u001b[0m\u001b[0m\n",
            "\u001b[0;31mValueError\u001b[0m: could not broadcast input array from shape (54000,16) into shape (54000,)"
          ]
        }
      ]
    },
    {
      "cell_type": "markdown",
      "source": [
        "momentum based gradient descent"
      ],
      "metadata": {
        "id": "R8I0GT_l4vZa"
      }
    },
    {
      "cell_type": "code",
      "source": [
        "u_o = 0\n",
        "def momentum_GD(learning_rate, Weights, bias, bias_Lth_layer, h, L, y_train, beta):\n",
        "  ## Forward propagation\n",
        "  a_out, h_out, y_dash = forward_propagation(Weights, bias, bias_Lth_layer, h, L)\n",
        "\n",
        "  ## Backward Propagation\n",
        "  delta_W, delta_b = backward_propagation(a_out, h_out, y_train, y_dash, Weights, L)\n",
        "\n",
        "  ## momentum based wight updates\n",
        "  u_W = np.multiply(u_o, [beta]*L) + delta_W\n",
        "\n",
        "\n",
        "  ## Weights and biases updates\n",
        "   # Weights updates\n",
        "  Weights = Weights - np.multiply(u, [learning_rate]*L)\n",
        "\n",
        "   # Biases updates\n",
        "  bias = bias - np.multiply(delta_b[:(L-1)], [learning_rate]*(L-1))\n",
        "  bias_Lth_layer = bias_Lth_layer - (delta_b[L-1])*learning_rate\n",
        "\n",
        "\n",
        "\n"
      ],
      "metadata": {
        "id": "cT4mv_WjQk88"
      },
      "execution_count": null,
      "outputs": []
    }
  ]
}