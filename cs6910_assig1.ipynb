{
  "nbformat": 4,
  "nbformat_minor": 0,
  "metadata": {
    "colab": {
      "provenance": [],
      "authorship_tag": "ABX9TyMKf3MMJvnNUZKrQ2xdCCtC",
      "include_colab_link": true
    },
    "kernelspec": {
      "name": "python3",
      "display_name": "Python 3"
    },
    "language_info": {
      "name": "python"
    }
  },
  "cells": [
    {
      "cell_type": "markdown",
      "metadata": {
        "id": "view-in-github",
        "colab_type": "text"
      },
      "source": [
        "<a href=\"https://colab.research.google.com/github/HaiderAltaf/Gradient-Descent-Algorithm-and-its-variants/blob/main/cs6910_assig1.ipynb\" target=\"_parent\"><img src=\"https://colab.research.google.com/assets/colab-badge.svg\" alt=\"Open In Colab\"/></a>"
      ]
    },
    {
      "cell_type": "markdown",
      "source": [
        "# Question 1\n",
        "Download the fashion-MNIST dataset and plot 1 sample image for each class as shown in the grid below. Use from keras.datasets import fashion_mnist for getting the fashion mnist dataset."
      ],
      "metadata": {
        "id": "-5cMQpFel2pj"
      }
    },
    {
      "cell_type": "code",
      "execution_count": 7,
      "metadata": {
        "id": "O_-ut5eWlniQ"
      },
      "outputs": [],
      "source": [
        "import numpy as np\n",
        "import pandas as pd\n",
        "from keras.datasets import fashion_mnist\n",
        "import matplotlib.pyplot as plt\n",
        "import math"
      ]
    },
    {
      "cell_type": "code",
      "source": [
        "! pip install wandb\n",
        "import wandb"
      ],
      "metadata": {
        "id": "OZ4uiwM-V1O0"
      },
      "execution_count": null,
      "outputs": []
    },
    {
      "cell_type": "code",
      "source": [
        "# Initialize WandB\n",
        "wandb.init(project=\"cs6910-assignment_1\")"
      ],
      "metadata": {
        "id": "UG7KjcpKWBfY"
      },
      "execution_count": null,
      "outputs": []
    },
    {
      "cell_type": "markdown",
      "source": [
        "importing the Fashion-MNIST Dataset"
      ],
      "metadata": {
        "id": "dzz6U3Vpl8Nq"
      }
    },
    {
      "cell_type": "code",
      "source": [
        "dataset = fashion_mnist.load_data()"
      ],
      "metadata": {
        "id": "gKyKHAvJmEaJ",
        "colab": {
          "base_uri": "https://localhost:8080/"
        },
        "outputId": "17b0c0ff-edf7-4abd-8741-aa6ee45d2a17"
      },
      "execution_count": 10,
      "outputs": [
        {
          "output_type": "stream",
          "name": "stdout",
          "text": [
            "Downloading data from https://storage.googleapis.com/tensorflow/tf-keras-datasets/train-labels-idx1-ubyte.gz\n",
            "29515/29515 [==============================] - 0s 0us/step\n",
            "Downloading data from https://storage.googleapis.com/tensorflow/tf-keras-datasets/train-images-idx3-ubyte.gz\n",
            "26421880/26421880 [==============================] - 0s 0us/step\n",
            "Downloading data from https://storage.googleapis.com/tensorflow/tf-keras-datasets/t10k-labels-idx1-ubyte.gz\n",
            "5148/5148 [==============================] - 0s 0us/step\n",
            "Downloading data from https://storage.googleapis.com/tensorflow/tf-keras-datasets/t10k-images-idx3-ubyte.gz\n",
            "4422102/4422102 [==============================] - 0s 0us/step\n"
          ]
        }
      ]
    },
    {
      "cell_type": "markdown",
      "source": [
        "separating training(60,000 images) and testing(10,000) image data"
      ],
      "metadata": {
        "id": "5HdIEqNLprRH"
      }
    },
    {
      "cell_type": "code",
      "source": [
        "(x_train, y_train), (x_test, y_test) = dataset\n",
        "X_train = x_train.reshape(x_train.shape[0], x_train.shape[1]*x_train.shape[2] )/255\n",
        "X_test = x_test.reshape(x_test.shape[0], x_test.shape[1]*x_test.shape[2])/255"
      ],
      "metadata": {
        "id": "_VViAXQ4mfc5"
      },
      "execution_count": 11,
      "outputs": []
    },
    {
      "cell_type": "markdown",
      "source": [
        "Separating 10% from training data for validation"
      ],
      "metadata": {
        "id": "sA6OYRtpzjKW"
      }
    },
    {
      "cell_type": "code",
      "source": [
        "validation_size = int(len(X_train)*0.1)\n",
        "\n",
        "# randomly shuffle the indices of the data\n",
        "shuffled_indices = np.random.permutation(len(X_train))\n",
        "\n",
        "# split the shuffled data into training and validation sets\n",
        "train_indices, validation_indices = shuffled_indices[:-validation_size], shuffled_indices[-validation_size:]\n",
        "X_train, X_validation = X_train[train_indices], X_train[validation_indices]\n",
        "y_train, y_validation = y_train[train_indices], y_train[validation_indices]"
      ],
      "metadata": {
        "id": "BKkp-zpWwUna"
      },
      "execution_count": 12,
      "outputs": []
    },
    {
      "cell_type": "markdown",
      "source": [
        "Number of classes in data"
      ],
      "metadata": {
        "id": "O2t1ke4Z5Mvc"
      }
    },
    {
      "cell_type": "markdown",
      "source": [
        " plot 1 sample image for each class "
      ],
      "metadata": {
        "id": "UCyEEtXCqXAc"
      }
    },
    {
      "cell_type": "code",
      "source": [
        "class_names = ['T-shirt/top', 'Trouser', 'Pullover', 'Dress', 'Coat', 'Sandal',\n",
        "               'Shirt', 'Sneaker', 'Bag', 'Ankle boot']\n",
        "          \n",
        "no_of_classes = len(class_names)\n",
        "fig, axes = plt.subplots(1, no_of_classes, figsize=(20,20))\n",
        "\n",
        "for i in range(no_of_classes):\n",
        "\n",
        "    # Find the index of the first image of each class\n",
        "    idx = np.where(y_train == i)[0][0]\n",
        "    \n",
        "    # Plot the image\n",
        "    axes[i].imshow(x_train[idx].reshape(28,28), cmap='gray')\n",
        "    axes[i].set_title(class_names[i])\n",
        "    axes[i].axis('off')\n",
        "\n",
        "plt.show()\n",
        "\n",
        "\n"
      ],
      "metadata": {
        "colab": {
          "base_uri": "https://localhost:8080/",
          "height": 141
        },
        "id": "yTyYtOi2skO4",
        "outputId": "9f8a471e-993b-48be-c1c2-10b0fa093a64"
      },
      "execution_count": null,
      "outputs": [
        {
          "output_type": "display_data",
          "data": {
            "text/plain": [
              "<Figure size 1440x1440 with 10 Axes>"
            ],
            "image/png": "[encoded data removed]"
          },
          "metadata": {
            "needs_background": "light"
          }
        }
      ]
    },
    {
      "cell_type": "code",
      "source": [],
      "metadata": {
        "id": "-MWYcSsvqddp"
      },
      "execution_count": null,
      "outputs": []
    },
    {
      "cell_type": "markdown",
      "source": [
        "# Question 2 \n",
        "\n",
        "Implement a feedforward neural network which takes images from the fashion-mnist data as input and outputs a probability distribution over the 10 classes."
      ],
      "metadata": {
        "id": "ZlUA82ekuTqc"
      }
    },
    {
      "cell_type": "code",
      "source": [
        "L = int(input(\"Enter the number of Hidden + outer layer: \"))"
      ],
      "metadata": {
        "id": "_LP2q-Of4ApX",
        "colab": {
          "base_uri": "https://localhost:8080/"
        },
        "outputId": "74848b50-6a95-41ab-a10b-703910eeb7b0"
      },
      "execution_count": 17,
      "outputs": [
        {
          "name": "stdout",
          "output_type": "stream",
          "text": [
            "Enter the number of Hidden + outer layer: 3\n"
          ]
        }
      ]
    },
    {
      "cell_type": "code",
      "source": [
        "n = int(input(\"Enter the numbers of neuron in each hidden layer: \"))"
      ],
      "metadata": {
        "id": "H8IheuiD4Rv3",
        "colab": {
          "base_uri": "https://localhost:8080/"
        },
        "outputId": "ed40eb3e-29da-4a3b-e2bb-0b8df1854e7d"
      },
      "execution_count": 18,
      "outputs": [
        {
          "name": "stdout",
          "output_type": "stream",
          "text": [
            "Enter the numbers of neuron in each hidden layer: 32\n"
          ]
        }
      ]
    },
    {
      "cell_type": "code",
      "source": [
        "no_of_classes = len(np.unique(y_train))"
      ],
      "metadata": {
        "id": "3JFVNBN-4gB0"
      },
      "execution_count": 19,
      "outputs": []
    },
    {
      "cell_type": "code",
      "source": [
        "choice = int(input(\"For random weights initialisation enter 1 and for xavier enter 2: \"))"
      ],
      "metadata": {
        "colab": {
          "base_uri": "https://localhost:8080/"
        },
        "id": "K9Y8casj40uH",
        "outputId": "9f7bb15b-007f-4cb3-dfce-ac2364fb664b"
      },
      "execution_count": 20,
      "outputs": [
        {
          "name": "stdout",
          "output_type": "stream",
          "text": [
            "For random weights initialisation enter 1 and for xavier enter 2: 2\n"
          ]
        }
      ]
    },
    {
      "cell_type": "code",
      "source": [
        "def weights(choice, n, L, X_train, no_of_classes):\n",
        "  \n",
        "  Weights = []\n",
        "  np.random.seed(0)\n",
        "\n",
        "  if choice ==1:\n",
        "    temp = np.random.rand(n, len(X_train[0]))\n",
        "    Weights.append(temp)\n",
        "\n",
        "    for i in range(1, L-1):\n",
        "      temp = np.random.rand(n, n)\n",
        "      Weights.append(temp)\n",
        "\n",
        "    temp = np.random.rand(no_of_classes, n)\n",
        "    Weights.append(temp)\n",
        "\n",
        "  if choice ==2:\n",
        "    scale = 1/max(1, (2+2)/2 )\n",
        "    limit = math.sqrt(3*scale)\n",
        "\n",
        "    temp = np.random.uniform(-limit, limit, size=(n, len(X_train[0]))) \n",
        "    Weights.append(temp)\n",
        "    for i in range(1, L-1):\n",
        "      temp  = np.random.uniform(-limit, limit, size=(n,n))\n",
        "      Weights.append(temp)\n",
        "\n",
        "    temp = np.random.uniform(-limit, limit, size=(no_of_classes, n)) \n",
        "    Weights.append(temp)\n",
        "\n",
        "  if choice ==3:\n",
        "    temp = np.zeros((n, len(X_train[0])))\n",
        "    Weights.append(temp)\n",
        "\n",
        "    for i in range(1, L-1):\n",
        "      temp = np.zeros((n, n))\n",
        "      Weights.append(temp)\n",
        "\n",
        "    temp = np.zeros((no_of_classes, n))\n",
        "    Weights.append(temp)\n",
        "\n",
        "  \n",
        "  return Weights\n",
        "\n"
      ],
      "metadata": {
        "id": "o4pDXaK65aNO"
      },
      "execution_count": 21,
      "outputs": []
    },
    {
      "cell_type": "code",
      "source": [
        "def biases(choice, n, L, y_train, no_of_classes):\n",
        "  \n",
        "  bias = []\n",
        "  np.random.seed(0)\n",
        "\n",
        "  if choice ==1:\n",
        "    for i in range(L-1):\n",
        "      temp = np.random.rand(n)  # for schochastic GD\n",
        "      #temp = np.random.rand(len(y_train),n)  # for Vanilla GD\n",
        "      bias.append(temp)\n",
        "    \n",
        "    temp = np.random.rand(no_of_classes)   # for schochastic GD\n",
        "    #temp = np.random.rand(len(y_train), no_of_classes)   # for Vanilla GD\n",
        "    bias.append(temp)\n",
        "\n",
        "  if choice ==2:\n",
        "    scale = 1/max(1, (2+2)/2 )\n",
        "    limit = math.sqrt(3*scale)\n",
        "    for i in range(L-1):\n",
        "      temp  = np.random.uniform(-limit, limit, size=(n))   # for schochastic GD\n",
        "      #temp  = np.random.uniform(-limit, limit, size=(len(y_train),n))  # for Vanilla GD\n",
        "      bias.append(temp)\n",
        "\n",
        "    temp = np.random.uniform(-limit, limit, size=(no_of_classes))   # for schochastic GD\n",
        "    #temp = np.random.uniform(-limit, limit, size=(len(y_train),no_of_classes)) # for Vanilla GD\n",
        "    bias.append(temp)\n",
        "\n",
        "  if choice ==3:\n",
        "    for i in range(L-1):\n",
        "      temp = np.zeros(n)\n",
        "      bias.append(temp)\n",
        "\n",
        "    temp = np.zeros(no_of_classes)\n",
        "    bias.append(temp)\n",
        "\n",
        "  \n",
        "  return bias\n"
      ],
      "metadata": {
        "id": "Mp2HVC8eUEvK"
      },
      "execution_count": 22,
      "outputs": []
    },
    {
      "cell_type": "code",
      "source": [
        "Weights = weights(choice, n, L, X_train, no_of_classes)"
      ],
      "metadata": {
        "id": "0Ki8Z7zdZE8g"
      },
      "execution_count": 76,
      "outputs": []
    },
    {
      "cell_type": "code",
      "source": [
        "bias = biases(choice, n, L, y_train, no_of_classes)"
      ],
      "metadata": {
        "id": "bNE8AXdi7fB1"
      },
      "execution_count": 77,
      "outputs": []
    },
    {
      "cell_type": "markdown",
      "source": [
        "Activation Functions"
      ],
      "metadata": {
        "id": "SNe2k9o5fJCZ"
      }
    },
    {
      "cell_type": "code",
      "source": [
        "def sigmoid(a):\n",
        "  a = np.float128(a)\n",
        "  return 1/(1+np.exp(-a))\n",
        "\n",
        "def tanh(a):\n",
        "  return (np.exp(a)-np.exp(-a))/(np.exp(a)+np.exp(-a))\n",
        "\n",
        "def ReLu(a):\n",
        "  i=0\n",
        "  for ele in a:\n",
        "    a[i] = max(0,ele)\n",
        "    i+=1\n",
        "  if choice ==1:\n",
        "    return a - max(a)\n",
        "  #   j=0\n",
        "  #   for num in ele:\n",
        "\n",
        "  #     a[i][j] = max(0,num)\n",
        "  #     j+=1\n",
        "  #   i+=1\n",
        "  return a\n",
        "\n",
        "def softmax(a):\n",
        "  # temp = np.zeros_like(a)\n",
        "  # for i in range(len(temp)):\n",
        "  #   temp[i] = np.float128(a[i])\n",
        "  #exp_logits = np.exp(a)\n",
        "  return np.exp(a)/np.sum(np.exp(a))   \n",
        "  \n",
        "def der_sigmoid(a):\n",
        "  return sigmoid(a)*(1-sigmoid(a))\n",
        "\n",
        "def der_tanh(a):\n",
        "  return 1-(tanh(a)*tanh(a))\n",
        "\n",
        "def der_ReLu(a):\n",
        "\n",
        "  # it will create a matrix of same dimension as of a.\n",
        "  gradient = np.zeros_like(a)  \n",
        "  # sets the entries of gradient to 1 where the corresponding entries of x>=0\n",
        "  gradient[a >= 0] = 1\n",
        "  return gradient"
      ],
      "metadata": {
        "id": "zQeYcLR3eZXr"
      },
      "execution_count": 25,
      "outputs": []
    },
    {
      "cell_type": "markdown",
      "source": [
        "Loss functions"
      ],
      "metadata": {
        "id": "lVMnOZ5LI-Ps"
      }
    },
    {
      "cell_type": "code",
      "source": [
        "def cross_entropy_loss(y_dash, y_train, X_train):\n",
        "  losses = -np.log(y_dash[y_train])/len(X_train)\n",
        "  return losses\n",
        "\n",
        "def MSE_loss(y_dash, y_train, X_train):\n",
        "  y_train_modified = np.zeros(10)\n",
        "  y_train_modified[y_train] = 1\n",
        "  losses = (np.sum(y_dash - y_train_modified))\n",
        "  return losses"
      ],
      "metadata": {
        "id": "7D-NSGVpI9jt"
      },
      "execution_count": 45,
      "outputs": []
    },
    {
      "cell_type": "markdown",
      "source": [
        "Forward Propagation"
      ],
      "metadata": {
        "id": "MRsgs5EJypw4"
      }
    },
    {
      "cell_type": "code",
      "source": [
        "def forward_propagation(Weights, bias, x_input, L):\n",
        "  \n",
        "  h = x_input\n",
        "  a_out = []\n",
        "  h_out = []\n",
        "  h_out.append(h)\n",
        "  \n",
        "  ## for hidden layers\n",
        "  for k in range(L-1):\n",
        "    #a = np.dot(h, Weights[k]) + bias[k]\n",
        "    a = np.matmul(Weights[k], h) + bias[k]\n",
        "    a_out.append(a)\n",
        "    ## default activation function is sigmoid \n",
        "    h = sigmoid(a)\n",
        "    h_out.append(h)\n",
        "\n",
        "  ## In outer layer softmax function\n",
        "  #a = np.dot(h, Weights[L-1]) + bias[L-1]\n",
        "  a = np.matmul(Weights[L-1], h) + bias[L-1]\n",
        "  a_out.append(a)\n",
        "  y_dash = softmax(a)\n",
        "  \n",
        "\n",
        "  return a_out, h_out, y_dash\n"
      ],
      "metadata": {
        "id": "jOypoQjEt81D"
      },
      "execution_count": 26,
      "outputs": []
    },
    {
      "cell_type": "markdown",
      "source": [
        "Backward propagation"
      ],
      "metadata": {
        "id": "z2DZ8Ewi05Nn"
      }
    },
    {
      "cell_type": "code",
      "source": [
        "def backward_propagation(a_out, h_out, y_train, y_dash, Weights, L, L2_decay):\n",
        "\n",
        "  grad_W = [0]*L\n",
        "  grad_b = [0]*L\n",
        "\n",
        "  \n",
        "  ## change each y_train into an array of 10 values\n",
        "  y_train_modified = np.zeros(10)\n",
        "  y_train_modified[y_train] = 1\n",
        "    \n",
        "  output_gradient = -(y_train_modified - y_dash)\n",
        "\n",
        "  for k in range(L, 0, -1):\n",
        "\n",
        "    ## compute gradients w.r.t parameters\n",
        "    W_gradient = np.matmul(output_gradient.reshape(len(output_gradient),1), h_out[k-1].reshape(1,len(h_out[k-1]))) \n",
        "    grad_W[k-1] = W_gradient\n",
        "\n",
        "    b_gradients = output_gradient \n",
        "    grad_b[k-1] = b_gradients\n",
        "   \n",
        "    if k==1:\n",
        "      continue\n",
        "    ## compute gradients w.r.t layer below\n",
        "    weight = Weights[k-1]\n",
        "    h_gradient = np.matmul(weight.T, output_gradient)\n",
        "\n",
        "    ## compute the gradient of pre activation layer\n",
        "    output_gradient = np.multiply(h_gradient, der_sigmoid(a_out[k-2]))\n",
        "\n",
        "  return grad_W, grad_b\n",
        "\n"
      ],
      "metadata": {
        "id": "Z6s4dnd6ykc4"
      },
      "execution_count": 27,
      "outputs": []
    },
    {
      "cell_type": "code",
      "source": [
        "a_out, h_out, y_dash = forward_propagation(Weights, bias, X_train[0], L)"
      ],
      "metadata": {
        "id": "gbH-Ru76krq7"
      },
      "execution_count": 36,
      "outputs": []
    },
    {
      "cell_type": "code",
      "source": [
        "grad_W, grad_b = backward_propagation(a_out, h_out, y_train, y_dash, Weights, L, 0.005)"
      ],
      "metadata": {
        "id": "jfoB0bBwkGTi"
      },
      "execution_count": 37,
      "outputs": []
    },
    {
      "cell_type": "markdown",
      "source": [
        "Model Accuracy"
      ],
      "metadata": {
        "id": "7Jf_j_EtFJhd"
      }
    },
    {
      "cell_type": "code",
      "source": [
        "def Model_accuracy(X_validation, y_validation, Weights, bias, L):\n",
        "\n",
        "  y_pred = np.zeros((len(X_validation), 10))\n",
        "  i=0\n",
        "  for x in X_validation:\n",
        "    _, _, y_dash = forward_propagation(Weights, bias, x, L)\n",
        "    y_pred[i] = y_dash\n",
        "    i+=1\n",
        "\n",
        "  correct = 0\n",
        "  for array,y in zip(y_pred, y_validation):\n",
        "    if np.argmax(array)==y:\n",
        "      correct+=1\n",
        "  accuracy = correct*100/len(y_validation)\n",
        "\n",
        "  return  accuracy"
      ],
      "metadata": {
        "id": "4vQxChQuUQDP"
      },
      "execution_count": 49,
      "outputs": []
    },
    {
      "cell_type": "code",
      "source": [
        "Model_accuracy(X_validation, y_validation, Weights, bias, L)"
      ],
      "metadata": {
        "id": "picBbO9RYcK9",
        "colab": {
          "base_uri": "https://localhost:8080/"
        },
        "outputId": "8abb715b-44d4-489b-f221-9b50de06ac18"
      },
      "execution_count": 53,
      "outputs": [
        {
          "output_type": "execute_result",
          "data": {
            "text/plain": [
              "71.3"
            ]
          },
          "metadata": {},
          "execution_count": 53
        }
      ]
    },
    {
      "cell_type": "markdown",
      "source": [
        "#Mini Batch Gradient Descent \n",
        "if batch_size = 1, the algorithm will be stochastic gradient descent.\n",
        "if batch_size = Number of samples, the algorithm will be vanilla gradient descent\n"
      ],
      "metadata": {
        "id": "KsS21O64Kvzl"
      }
    },
    {
      "cell_type": "code",
      "source": [
        "def Minibatch_gradient_descent(learning_rate, Weights, bias, L, y_train, X_train, no_of_classes, batch_size, L2_decay):\n",
        "  \n",
        "  ## initialize the gradients of weights and biases\n",
        "  dW = weights(3, n, L, X_train, no_of_classes)\n",
        "  dB = biases(3, n, L, y_train, no_of_classes)\n",
        "  ## initialize the loss\n",
        "  loss = 0\n",
        "  num_points_seen = 0\n",
        "\n",
        "  for x,y in zip(X_train,y_train):\n",
        "\n",
        "    ##x,y = np.float128(x), np.float128(y)\n",
        "\n",
        "    ## Forward propagation\n",
        "    a_out, h_out, y_dash = forward_propagation(Weights, bias, x, L)\n",
        "    \n",
        "    #loss_iter = MSE_loss(y_dash, y_train, X_train)  # for MSE loss use this\n",
        "    loss_iter = cross_entropy_loss(y_dash, y, X_train)  # for cross entropy use this\n",
        "    loss += loss_iter\n",
        "\n",
        "\n",
        "    ## Backward Propagation\n",
        "    grad_W, grad_b = backward_propagation(a_out, h_out, y, y_dash, Weights, L, L2_decay)\n",
        "\n",
        "    ## Adding the gradients of weights and biases\n",
        "    dW = [dW[i] + grad_W[i] for i in range(len(dW))]\n",
        "    dB = [dB[i] + grad_b[i] for i in range(len(dB))]\n",
        "     \n",
        "    num_points_seen+=1\n",
        "    \n",
        "    if num_points_seen%batch_size == 0:\n",
        "\n",
        "      ## Add L2 regularization penalty to gradient\n",
        "      dW = [dW[i] + 2*L2_decay*Weights[i]/len(X_train) for i in range(len(dW))]\n",
        "      # Weights updates\n",
        "      \n",
        "      Weights = [Weights[i] - dW[i]*learning_rate for i in range(L)]\n",
        "\n",
        "      # Biases updates\n",
        "      bias = [bias[i] - dB[i]*learning_rate for i in range(L)]\n",
        "\n",
        "      \n",
        "      ## initialize the gradients of weights and biases\n",
        "      dW = weights(3, n, L, X_train, no_of_classes)\n",
        "      dB = biases(3, n, L, y_train, no_of_classes)\n",
        "  # Adding L2 regularization loss\n",
        "  for i in range(len(Weights)):\n",
        "    loss = loss + 2*L2_decay*np.sum(Weights[i]**2)/len(X_train)\n",
        "  \n",
        "  return Weights, bias, loss\n"
      ],
      "metadata": {
        "id": "lF615oFSKuv-"
      },
      "execution_count": 78,
      "outputs": []
    },
    {
      "cell_type": "code",
      "source": [
        "for i in range(10):\n",
        "  Weights, bias, loss = Minibatch_gradient_descent(0.0001, Weights, bias, L, y_train, X_train, no_of_classes, 25, 0)\n",
        "  print(i, loss)\n",
        "# Finish the WandB run\n",
        "#wandb.finish()"
      ],
      "metadata": {
        "colab": {
          "base_uri": "https://localhost:8080/"
        },
        "id": "O11C1AEYPgFI",
        "outputId": "e0dcc1b4-c6da-4d90-ca07-104cfb22a9f3"
      },
      "execution_count": 79,
      "outputs": [
        {
          "output_type": "stream",
          "name": "stdout",
          "text": [
            "0 2.7502577582561744491\n",
            "1 1.8043595735334898072\n",
            "2 1.5832133233969766883\n",
            "3 1.4359097059015334201\n",
            "4 1.3266704617557013966\n",
            "5 1.2404861694744863456\n",
            "6 1.1697466090772752014\n",
            "7 1.1106282530330283914\n",
            "8 1.0608271915901231603\n",
            "9 1.0185881267326671076\n"
          ]
        }
      ]
    },
    {
      "cell_type": "code",
      "source": [
        "Model_accuracy(X_validation, y_validation, Weights, bias, L)"
      ],
      "metadata": {
        "colab": {
          "base_uri": "https://localhost:8080/"
        },
        "id": "F60POmeeW-51",
        "outputId": "797eee88-f9b9-48e1-dc5d-b0049f86144d"
      },
      "execution_count": 80,
      "outputs": [
        {
          "output_type": "execute_result",
          "data": {
            "text/plain": [
              "66.53333333333333"
            ]
          },
          "metadata": {},
          "execution_count": 80
        }
      ]
    },
    {
      "cell_type": "markdown",
      "source": [
        "#Mini Batch Momentum based Gradient Descent\n",
        "if batch_size = 1, the algorithm will be stochastic gradient descent. if batch_size = Number of samples, the algorithm will be vanilla gradient descent"
      ],
      "metadata": {
        "id": "IK6JEr8ORuE4"
      }
    },
    {
      "cell_type": "code",
      "source": [
        "def Minibatch_Momentum_GD(Weights, bias, L, X_train, y_train, beta, no_of_classes, prev_uw, prev_ub, learning_rate, batch_size, L2_decay):\n",
        "\n",
        "    ## initialize the gradients of weights and biases\n",
        "    dW = weights(3, n, L, X_train, no_of_classes)\n",
        "    dB = biases(3, n, L, y_train, no_of_classes)\n",
        "    ## initialize the loss\n",
        "    cross_entropy_loss = 0\n",
        "    num_points_seen = 0\n",
        "\n",
        "    for x,y in zip(X_train, y_train):\n",
        "\n",
        "      #x = np.float128(x)\n",
        "\n",
        "      ## Forward propagation\n",
        "      a_out, h_out, y_dash = forward_propagation(Weights, bias, x, L)\n",
        "    \n",
        "      cross_entropy_loss += -np.log(y_dash[y])\n",
        "\n",
        "      ## Backward Propagation\n",
        "      grad_W, grad_b = backward_propagation(a_out, h_out, y, y_dash, Weights, L, L2_decay)\n",
        "\n",
        "      ## Adding the gradients of weights and biases\n",
        "      dW = [dW[i] + grad_W[i] for i in range(len(dW))]\n",
        "      dB = [dB[i] + grad_b[i] for i in range(len(dB))]\n",
        "\n",
        "      num_points_seen +=1\n",
        " \n",
        "      if num_points_seen%batch_size==0:\n",
        "        ## momentum based wight updates\n",
        "        uw = [prev_uw[i]*beta + dW[i]*learning_rate for i in range(len(dW))]\n",
        "        ub = [prev_ub[i]*beta + dB[i]*learning_rate for i in range(len(dB))]\n",
        "        \n",
        "        ## Weights and biases updates\n",
        "        # Weights updates\n",
        "        Weights = [Weights[i] - uw[i] for i in range(len(uw))]\n",
        "\n",
        "        # Biases updates\n",
        "        bias = [bias[i] - ub[i] for i in range(len(ub))]\n",
        "\n",
        "        # assign present to the history \n",
        "        prev_uw = uw\n",
        "        prev_ub = ub\n",
        "\n",
        "        dW = weights(3, n, L, X_train, no_of_classes)\n",
        "        dB = biases(3, n, L, y_train, no_of_classes)\n",
        "\n",
        "    return  Weights, bias, cross_entropy_loss"
      ],
      "metadata": {
        "id": "N9hSwUCaRVVz"
      },
      "execution_count": 20,
      "outputs": []
    },
    {
      "cell_type": "code",
      "source": [
        "## initializing the initial value for momentum(zero)\n",
        "prev_uw = weights(3, n, L, X_train, no_of_classes)\n",
        "prev_ub = biases(3, n, L, y_train, no_of_classes)\n",
        "\n",
        "for i in range(9):\n",
        "\n",
        "  Weights, bias, cross_entropy_loss = Minibatch_Momentum_GD(Weights, bias, L, X_train, y_train, 0.9, no_of_classes, prev_uw, prev_ub, 0.0001, 25, 0.005)\n",
        "  print(i, cross_entropy_loss)"
      ],
      "metadata": {
        "colab": {
          "base_uri": "https://localhost:8080/"
        },
        "id": "5a-rcveBQD_w",
        "outputId": "9a11e2ee-b3a6-4be2-f4b8-99349f95592e"
      },
      "execution_count": 21,
      "outputs": [
        {
          "output_type": "stream",
          "name": "stdout",
          "text": [
            "0 79670.345872985654104\n",
            "1 47785.15090954947926\n",
            "2 40630.868163315778204\n",
            "3 37150.6177041099439\n",
            "4 34943.459926445599734\n",
            "5 33358.25538093008927\n",
            "6 32137.919226511332589\n",
            "7 31153.441210135198082\n",
            "8 30331.900578843719494\n"
          ]
        }
      ]
    },
    {
      "cell_type": "markdown",
      "source": [
        "#Nesterov Accelerated Gradient Descent - MiniBatch\n",
        "if batch_size = 1, the algorithm will be stochastic gradient descent. if batch_size = Number of samples, the algorithm will be vanilla gradient descent"
      ],
      "metadata": {
        "id": "KcBoS2WQeF-n"
      }
    },
    {
      "cell_type": "code",
      "source": [
        "def Minibatch_NAG(Weights, bias, L, X_train, y_train, beta, no_of_classes, prev_vw, prev_vb, learning_rate, batch_size):\n",
        "\n",
        "    ## initialize the gradients of weights and biases\n",
        "    dW = weights(3, n, L, X_train, no_of_classes)\n",
        "    dB = biases(3, n, L, y_train, no_of_classes)\n",
        "    ## initialize the loss\n",
        "    cross_entropy_loss = 0\n",
        "    num_points_seen = 0\n",
        "\n",
        "    # do partial updates\n",
        "    v_w = [beta*prev_vw[i] for i in range(len(prev_vw))]\n",
        "    v_b = [beta*prev_vb[i] for i in range(len(prev_vb))]\n",
        "\n",
        "    for x, y in zip(X_train, y_train):\n",
        "\n",
        "      #x = np.float128(x)\n",
        "\n",
        "      ## Forward propagation\n",
        "      Weights = [Weights[i]-v_w[i] for i in range(len(Weights))]\n",
        "      bias    = [bias[i]-v_b[i] for i in range(len(bias))]\n",
        "      a_out, h_out, y_dash = forward_propagation(Weights, bias, x, L)\n",
        "      \n",
        "      cross_entropy_loss += -np.log(y_dash[y])\n",
        "\n",
        "      ## Backward Propagation\n",
        "      grad_W, grad_b = backward_propagation(a_out, h_out, y, y_dash, Weights, L)\n",
        "\n",
        "      ## Look Ahead\n",
        "      ## Adding the gradients of weights and biases\n",
        "      dW = [dW[i] + grad_W[i] for i in range(len(dW))]\n",
        "      dB = [dB[i] + grad_b[i] for i in range(len(dB))]\n",
        "\n",
        "      num_points_seen +=1\n",
        "\n",
        "      if num_points_seen%batch_size==0:\n",
        "        ## momentum based wight updates\n",
        "        vw = [prev_vw[i]*beta + dW[i]*learning_rate for i in range(len(dW))]\n",
        "        vb = [prev_vb[i]*beta + dB[i]*learning_rate for i in range(len(dB))]\n",
        "\n",
        "        ## Weights and biases updates\n",
        "        # Weights updates\n",
        "        Weights = [Weights[i] - vw[i] for i in range(len(vw))]\n",
        "\n",
        "        # Biases updates\n",
        "        bias = [bias[i] - vb[i] for i in range(len(vb))]\n",
        "\n",
        "        # assign present to the history \n",
        "        prev_uw = vw\n",
        "        prev_ub = vb\n",
        "\n",
        "        dW = weights(3, n, L, X_train, no_of_classes)\n",
        "        dB = biases(3, n, L, y_train, no_of_classes)\n",
        "\n",
        "    return  Weights, bias, cross_entropy_loss"
      ],
      "metadata": {
        "id": "EhjA6UuceE_v"
      },
      "execution_count": 118,
      "outputs": []
    },
    {
      "cell_type": "code",
      "source": [
        "## initializing the initial value for momentum(zero)\n",
        "prev_vw = weights(3, n, L, X_train, no_of_classes)\n",
        "prev_vb = biases(3, n, L, y_train, no_of_classes)\n",
        "\n",
        "for i in range(1):\n",
        "  Weights, bias, cross_entropy_loss = Minibatch_NAG(Weights, bias, L, X_train, y_train, 0.9, no_of_classes, prev_vw, prev_vb, 0.0001, 25)\n",
        "  print(i,cross_entropy_loss)"
      ],
      "metadata": {
        "id": "yFL7QpxmVKoZ"
      },
      "execution_count": null,
      "outputs": []
    },
    {
      "cell_type": "markdown",
      "source": [
        "#Adaptive Gradient(AdaGrad) based Gradient Descent- Minibatch\n",
        "if batch_size = 1, the algorithm will be stochastic gradient descent. if batch_size = Number of samples, the algorithm will be vanilla gradient descent"
      ],
      "metadata": {
        "id": "ti8ADwESXAGY"
      }
    },
    {
      "cell_type": "code",
      "source": [
        "def Minibatch_AdaGrad(Weights, bias, L, X_train, y_train, eps, no_of_classes, v_w, v_b, learning_rate, batch_size):\n",
        "\n",
        "    ## initialize the gradients of weights and biases\n",
        "    dW = weights(3, n, L, X_train, no_of_classes)\n",
        "    dB = biases(3, n, L, y_train, no_of_classes)\n",
        "\n",
        "    ## initialize the loss\n",
        "    cross_entropy_loss = 0\n",
        "    num_points_seen = 0\n",
        "\n",
        "    for x, y in zip(X_train, y_train):\n",
        "\n",
        "      #x = np.float128(x)\n",
        "\n",
        "      ## Forward propagation\n",
        "      a_out, h_out, y_dash = forward_propagation(Weights, bias, x, L)\n",
        "      \n",
        "      cross_entropy_loss += -np.log(y_dash[y])\n",
        "\n",
        "      ## Backward Propagation\n",
        "      grad_W, grad_b = backward_propagation(a_out, h_out, y, y_dash, Weights, L)\n",
        "\n",
        "      dW = [dW[i] + grad_W[i] for i in range(len(dW))]\n",
        "      dB = [dB[i] + grad_b[i] for i in range(len(dB))]\n",
        "\n",
        "      num_points_seen +=1\n",
        "\n",
        "      if num_points_seen%batch_size==0:\n",
        "        #compute intermediate values\n",
        "        v_w = [v_w[i] + dW[i]**2 for i in range(len(grad_W))]\n",
        "        v_b = [v_b[i] + dB[i]**2 for i in range(len(grad_b))]\n",
        "\n",
        "        # Weights updates\n",
        "        Weights = [Weights[i] - learning_rate*dW[i]/(np.sqrt(v_w[i])+eps) for i in range(len(Weights))]\n",
        "\n",
        "        # Biases updates\n",
        "        bias = [bias[i] - learning_rate*dB[i]/(np.sqrt(v_b[i])+eps) for i in range(len(bias))]\n",
        "\n",
        "        dW = weights(3, n, L, X_train, no_of_classes)\n",
        "        dB = biases(3, n, L, y_train, no_of_classes)\n",
        "\n",
        "\n",
        "    return  Weights, bias, cross_entropy_loss"
      ],
      "metadata": {
        "id": "ktWLOxF2WnnD"
      },
      "execution_count": 120,
      "outputs": []
    },
    {
      "cell_type": "code",
      "source": [
        "## MiniBatch AdaGrad\n",
        "\n",
        "v_w = weights(3, n, L, X_train, no_of_classes)\n",
        "v_b = biases(3, n, L, y_train, no_of_classes)\n",
        "\n",
        "for i in range(1):\n",
        "  Weights, bias, cross_entropy_loss = Minibatch_AdaGrad(Weights, bias, L, X_train, y_train, 1e-8, no_of_classes, v_w, v_b, 0.0001, 50)\n",
        "  print(i,cross_entropy_loss)\n"
      ],
      "metadata": {
        "colab": {
          "base_uri": "https://localhost:8080/"
        },
        "id": "zmF6kRdHX6-v",
        "outputId": "0cb6ef26-51b2-42f1-f922-b50d1d5be77a"
      },
      "execution_count": 121,
      "outputs": [
        {
          "output_type": "stream",
          "name": "stdout",
          "text": [
            "0 50508.469899747501614\n"
          ]
        }
      ]
    },
    {
      "cell_type": "markdown",
      "source": [
        "#Root Mean Squared Propagation(RMSProp) Gradient Descent - MiniBatch\n",
        "if batch_size = 1, the algorithm will be stochastic gradient descent. if batch_size = Number of samples, the algorithm will be vanilla gradient descent"
      ],
      "metadata": {
        "id": "Qwy4m-glvWKq"
      }
    },
    {
      "cell_type": "code",
      "source": [
        "def Minibatch_RMSProp(Weights, bias, L, X_train, y_train, eps, no_of_classes, v_w, v_b, learning_rate, batch_size, beta):\n",
        "\n",
        "    ## initialize the gradients of weights and biases\n",
        "    dW = weights(3, n, L, X_train, no_of_classes)\n",
        "    dB = biases(3, n, L, y_train, no_of_classes)\n",
        "\n",
        "    ## initialize the loss\n",
        "    cross_entropy_loss = 0\n",
        "    num_points_seen = 0\n",
        "\n",
        "    for x, y in zip(X_train, y_train):\n",
        "\n",
        "      #x = np.float128(x)\n",
        "\n",
        "      ## Forward propagation\n",
        "      a_out, h_out, y_dash = forward_propagation(Weights, bias, x, L)\n",
        "      \n",
        "      cross_entropy_loss += -np.log(y_dash[y])\n",
        "\n",
        "      ## Backward Propagation\n",
        "      grad_W, grad_b = backward_propagation(a_out, h_out, y, y_dash, Weights, L)\n",
        "      \n",
        "      dW = [dW[i] + grad_W[i] for i in range(len(dW))]\n",
        "      dB = [dB[i] + grad_b[i] for i in range(len(dB))]\n",
        "\n",
        "      num_points_seen +=1\n",
        "\n",
        "      if num_points_seen%batch_size==0:\n",
        "        #compute intermediate values\n",
        "        v_w = [beta*v_w[i] + (1-beta)*(dW[i]**2) for i in range(len(grad_W))]\n",
        "        v_b = [beta*v_b[i] + (1-beta)*(dB[i]**2) for i in range(len(grad_b))]\n",
        "\n",
        "        ## Weights and biases updates\n",
        "        # Weights updates\n",
        "        Weights = [Weights[i] - learning_rate*dW[i]/(np.sqrt(v_w[i])+eps) for i in range(len(Weights))]\n",
        "\n",
        "        # Biases updates\n",
        "        bias = [bias[i] - learning_rate*dB[i]/(np.sqrt(v_b[i])+eps) for i in range(len(bias))]\n",
        "\n",
        "        dW = weights(3, n, L, X_train, no_of_classes)\n",
        "        dB = biases(3, n, L, y_train, no_of_classes)\n",
        "\n",
        "\n",
        "    return  Weights, bias, cross_entropy_loss"
      ],
      "metadata": {
        "id": "-HH3ZkpwvcJS"
      },
      "execution_count": 122,
      "outputs": []
    },
    {
      "cell_type": "code",
      "source": [
        "## MiniBatch RMSProp\n",
        "%%time\n",
        "\n",
        "v_w = weights(3, n, L, X_train, no_of_classes)\n",
        "v_b = biases(3, n, L, y_train, no_of_classes)\n",
        "\n",
        "for i in range(1):\n",
        "  Weights, bias, cross_entropy_loss = Minibatch_RMSProp(Weights, bias, L, X_train, y_train, 1e-8, no_of_classes, v_w, v_b, 0.0001, 25, 0.9)\n",
        "  print(i,cross_entropy_loss)"
      ],
      "metadata": {
        "colab": {
          "base_uri": "https://localhost:8080/"
        },
        "id": "7NjTeTrU1Nbv",
        "outputId": "fcff3885-39a9-44fa-a0a3-317a3f3cd790"
      },
      "execution_count": 123,
      "outputs": [
        {
          "output_type": "stream",
          "name": "stdout",
          "text": [
            "0 46139.93685923521568\n",
            "CPU times: user 34.5 s, sys: 72.8 ms, total: 34.6 s\n",
            "Wall time: 35.1 s\n"
          ]
        }
      ]
    },
    {
      "cell_type": "markdown",
      "source": [
        "#Adaptive Delta(AdaDelta) gradient descent - Minibatch\n",
        "if batch_size = 1, the algorithm will be stochastic gradient descent. if batch_size = Number of samples, the algorithm will be vanilla gradient descent"
      ],
      "metadata": {
        "id": "6CLGHkDl4t5b"
      }
    },
    {
      "cell_type": "code",
      "source": [
        "def Minibatch_AdaDelta(Weights, bias, L, X_train, y_train, eps, no_of_classes, v_w, v_b, u_w, u_b, learning_rate, batch_size, beta):\n",
        "\n",
        "    ## initialize the gradients of weights and biases\n",
        "    dW = weights(3, n, L, X_train, no_of_classes)\n",
        "    dB = biases(3, n, L, y_train, no_of_classes)\n",
        "\n",
        "    ## initialize the loss\n",
        "    cross_entropy_loss = 0\n",
        "    num_points_seen = 0\n",
        "\n",
        "    for x, y in zip(X_train, y_train):\n",
        "\n",
        "      #x = np.float128(x)\n",
        "\n",
        "      ## Forward propagation\n",
        "      a_out, h_out, y_dash = forward_propagation(Weights, bias, x, L)\n",
        "      \n",
        "      cross_entropy_loss += -np.log(y_dash[y])\n",
        "\n",
        "      ## Backward Propagation\n",
        "      grad_W, grad_b = backward_propagation(a_out, h_out, y, y_dash, Weights, L)\n",
        "      \n",
        "      dW = [dW[i] + grad_W[i] for i in range(len(dW))]\n",
        "      dB = [dB[i] + grad_b[i] for i in range(len(dB))]\n",
        "\n",
        "      num_points_seen +=1\n",
        "\n",
        "      if num_points_seen%batch_size==0:\n",
        "        #compute intermediate values\n",
        "        v_w = [beta*v_w[i] + (1-beta)*(dW[i]**2) for i in range(len(grad_W))]\n",
        "        v_b = [beta*v_b[i] + (1-beta)*(dB[i]**2) for i in range(len(grad_b))]\n",
        "\n",
        "        del_w = [dW[i]*np.sqrt(u_w[i]+eps)/(np.sqrt(v_w[i]+eps)) for i in range(len(dW))]\n",
        "        del_b = [dB[i]*np.sqrt(u_b[i]+eps)/(np.sqrt(v_b[i]+eps)) for i in range(len(dB))]\n",
        "\n",
        "        u_w = [beta*u_w[i] + (1-beta)*del_w[i]**2 for i in range(len(u_w))]\n",
        "        u_b = [beta*u_b[i] + (1-beta)*del_b[i]**2 for i in range(len(u_b))]\n",
        "\n",
        "        # Weights updates\n",
        "        Weights = [Weights[i] - del_w[i] for i in range(len(del_w))]\n",
        "\n",
        "        # Biases updates\n",
        "        bias = [bias[i] - del_b[i] for i in range(len(del_b))]\n",
        "\n",
        "        dW = weights(3, n, L, X_train, no_of_classes)\n",
        "        dB = biases(3, n, L, y_train, no_of_classes)\n",
        "\n",
        "\n",
        "    return  Weights, bias, cross_entropy_loss"
      ],
      "metadata": {
        "id": "FAnqIPVXZj9q"
      },
      "execution_count": 124,
      "outputs": []
    },
    {
      "cell_type": "code",
      "source": [
        "%%time\n",
        "## MiniBatch AdaDelta\n",
        "u_w = weights(3, n, L, X_train, no_of_classes)\n",
        "u_b = biases(3, n, L, y_train, no_of_classes)\n",
        "\n",
        "v_w = weights(3, n, L, X_train, no_of_classes)\n",
        "v_b = biases(3, n, L, y_train, no_of_classes)\n",
        "\n",
        "for i in range(10):\n",
        "  Weights, bias, cross_entropy_loss = Minibatch_AdaDelta(Weights, bias, L, X_train, y_train, 1E-8, no_of_classes, v_w, v_b, u_w, u_b, 0.001, 25, 0.9)\n",
        "  print(i,cross_entropy_loss)"
      ],
      "metadata": {
        "colab": {
          "base_uri": "https://localhost:8080/",
          "height": 437
        },
        "id": "iTGhRTO5aBdv",
        "outputId": "346559d8-f80d-4654-e0d3-f6f9e0c30830"
      },
      "execution_count": 125,
      "outputs": [
        {
          "output_type": "stream",
          "name": "stdout",
          "text": [
            "0 38616.291048687305704\n"
          ]
        },
        {
          "output_type": "error",
          "ename": "KeyboardInterrupt",
          "evalue": "ignored",
          "traceback": [
            "\u001b[0;31m---------------------------------------------------------------------------\u001b[0m",
            "\u001b[0;31mKeyboardInterrupt\u001b[0m                         Traceback (most recent call last)",
            "\u001b[0;32m<timed exec>\u001b[0m in \u001b[0;36m<module>\u001b[0;34m\u001b[0m\n",
            "\u001b[0;32m<ipython-input-124-432b9b032153>\u001b[0m in \u001b[0;36mMinibatch_AdaDelta\u001b[0;34m(Weights, bias, L, X_train, y_train, eps, no_of_classes, v_w, v_b, u_w, u_b, learning_rate, batch_size, beta)\u001b[0m\n\u001b[1;32m     21\u001b[0m       \u001b[0mgrad_W\u001b[0m\u001b[0;34m,\u001b[0m \u001b[0mgrad_b\u001b[0m \u001b[0;34m=\u001b[0m \u001b[0mbackward_propagation\u001b[0m\u001b[0;34m(\u001b[0m\u001b[0ma_out\u001b[0m\u001b[0;34m,\u001b[0m \u001b[0mh_out\u001b[0m\u001b[0;34m,\u001b[0m \u001b[0my\u001b[0m\u001b[0;34m,\u001b[0m \u001b[0my_dash\u001b[0m\u001b[0;34m,\u001b[0m \u001b[0mWeights\u001b[0m\u001b[0;34m,\u001b[0m \u001b[0mL\u001b[0m\u001b[0;34m)\u001b[0m\u001b[0;34m\u001b[0m\u001b[0;34m\u001b[0m\u001b[0m\n\u001b[1;32m     22\u001b[0m \u001b[0;34m\u001b[0m\u001b[0m\n\u001b[0;32m---> 23\u001b[0;31m       \u001b[0mdW\u001b[0m \u001b[0;34m=\u001b[0m \u001b[0;34m[\u001b[0m\u001b[0mdW\u001b[0m\u001b[0;34m[\u001b[0m\u001b[0mi\u001b[0m\u001b[0;34m]\u001b[0m \u001b[0;34m+\u001b[0m \u001b[0mgrad_W\u001b[0m\u001b[0;34m[\u001b[0m\u001b[0mi\u001b[0m\u001b[0;34m]\u001b[0m \u001b[0;32mfor\u001b[0m \u001b[0mi\u001b[0m \u001b[0;32min\u001b[0m \u001b[0mrange\u001b[0m\u001b[0;34m(\u001b[0m\u001b[0mlen\u001b[0m\u001b[0;34m(\u001b[0m\u001b[0mdW\u001b[0m\u001b[0;34m)\u001b[0m\u001b[0;34m)\u001b[0m\u001b[0;34m]\u001b[0m\u001b[0;34m\u001b[0m\u001b[0;34m\u001b[0m\u001b[0m\n\u001b[0m\u001b[1;32m     24\u001b[0m       \u001b[0mdB\u001b[0m \u001b[0;34m=\u001b[0m \u001b[0;34m[\u001b[0m\u001b[0mdB\u001b[0m\u001b[0;34m[\u001b[0m\u001b[0mi\u001b[0m\u001b[0;34m]\u001b[0m \u001b[0;34m+\u001b[0m \u001b[0mgrad_b\u001b[0m\u001b[0;34m[\u001b[0m\u001b[0mi\u001b[0m\u001b[0;34m]\u001b[0m \u001b[0;32mfor\u001b[0m \u001b[0mi\u001b[0m \u001b[0;32min\u001b[0m \u001b[0mrange\u001b[0m\u001b[0;34m(\u001b[0m\u001b[0mlen\u001b[0m\u001b[0;34m(\u001b[0m\u001b[0mdB\u001b[0m\u001b[0;34m)\u001b[0m\u001b[0;34m)\u001b[0m\u001b[0;34m]\u001b[0m\u001b[0;34m\u001b[0m\u001b[0;34m\u001b[0m\u001b[0m\n\u001b[1;32m     25\u001b[0m \u001b[0;34m\u001b[0m\u001b[0m\n",
            "\u001b[0;32m<ipython-input-124-432b9b032153>\u001b[0m in \u001b[0;36m<listcomp>\u001b[0;34m(.0)\u001b[0m\n\u001b[1;32m     21\u001b[0m       \u001b[0mgrad_W\u001b[0m\u001b[0;34m,\u001b[0m \u001b[0mgrad_b\u001b[0m \u001b[0;34m=\u001b[0m \u001b[0mbackward_propagation\u001b[0m\u001b[0;34m(\u001b[0m\u001b[0ma_out\u001b[0m\u001b[0;34m,\u001b[0m \u001b[0mh_out\u001b[0m\u001b[0;34m,\u001b[0m \u001b[0my\u001b[0m\u001b[0;34m,\u001b[0m \u001b[0my_dash\u001b[0m\u001b[0;34m,\u001b[0m \u001b[0mWeights\u001b[0m\u001b[0;34m,\u001b[0m \u001b[0mL\u001b[0m\u001b[0;34m)\u001b[0m\u001b[0;34m\u001b[0m\u001b[0;34m\u001b[0m\u001b[0m\n\u001b[1;32m     22\u001b[0m \u001b[0;34m\u001b[0m\u001b[0m\n\u001b[0;32m---> 23\u001b[0;31m       \u001b[0mdW\u001b[0m \u001b[0;34m=\u001b[0m \u001b[0;34m[\u001b[0m\u001b[0mdW\u001b[0m\u001b[0;34m[\u001b[0m\u001b[0mi\u001b[0m\u001b[0;34m]\u001b[0m \u001b[0;34m+\u001b[0m \u001b[0mgrad_W\u001b[0m\u001b[0;34m[\u001b[0m\u001b[0mi\u001b[0m\u001b[0;34m]\u001b[0m \u001b[0;32mfor\u001b[0m \u001b[0mi\u001b[0m \u001b[0;32min\u001b[0m \u001b[0mrange\u001b[0m\u001b[0;34m(\u001b[0m\u001b[0mlen\u001b[0m\u001b[0;34m(\u001b[0m\u001b[0mdW\u001b[0m\u001b[0;34m)\u001b[0m\u001b[0;34m)\u001b[0m\u001b[0;34m]\u001b[0m\u001b[0;34m\u001b[0m\u001b[0;34m\u001b[0m\u001b[0m\n\u001b[0m\u001b[1;32m     24\u001b[0m       \u001b[0mdB\u001b[0m \u001b[0;34m=\u001b[0m \u001b[0;34m[\u001b[0m\u001b[0mdB\u001b[0m\u001b[0;34m[\u001b[0m\u001b[0mi\u001b[0m\u001b[0;34m]\u001b[0m \u001b[0;34m+\u001b[0m \u001b[0mgrad_b\u001b[0m\u001b[0;34m[\u001b[0m\u001b[0mi\u001b[0m\u001b[0;34m]\u001b[0m \u001b[0;32mfor\u001b[0m \u001b[0mi\u001b[0m \u001b[0;32min\u001b[0m \u001b[0mrange\u001b[0m\u001b[0;34m(\u001b[0m\u001b[0mlen\u001b[0m\u001b[0;34m(\u001b[0m\u001b[0mdB\u001b[0m\u001b[0;34m)\u001b[0m\u001b[0;34m)\u001b[0m\u001b[0;34m]\u001b[0m\u001b[0;34m\u001b[0m\u001b[0;34m\u001b[0m\u001b[0m\n\u001b[1;32m     25\u001b[0m \u001b[0;34m\u001b[0m\u001b[0m\n",
            "\u001b[0;31mKeyboardInterrupt\u001b[0m: "
          ]
        }
      ]
    },
    {
      "cell_type": "markdown",
      "source": [
        "#Adaptive moments(Adam) Gradient Descent- MiniBatch\n",
        "if batch_size = 1, the algorithm will be stochastic gradient descent. if batch_size = Number of samples, the algorithm will be vanilla gradient descent"
      ],
      "metadata": {
        "id": "BklUlyYNE2V6"
      }
    },
    {
      "cell_type": "code",
      "source": [
        "def Minibatch_Adam(Weights, bias, L, X_train, y_train, eps, no_of_classes, learning_rate, batch_size, beta1, beta2, eta, max_epoch):\n",
        "\n",
        "  m_w = weights(3, n, L, X_train, no_of_classes)\n",
        "  m_b = biases(3, n, L, y_train, no_of_classes)\n",
        "\n",
        "  v_w = weights(3, n, L, X_train, no_of_classes)\n",
        "  v_b = biases(3, n, L, y_train, no_of_classes)\n",
        "\n",
        "    \n",
        "  for epoch in range(max_epoch):\n",
        "      ## initialize the gradients of weights and biases\n",
        "      dW = weights(3, n, L, X_train, no_of_classes)\n",
        "      dB = biases(3, n, L, y_train, no_of_classes)\n",
        "\n",
        "      ## initialize the loss\n",
        "      cross_entropy_loss = 0\n",
        "      num_points_seen = 0\n",
        "\n",
        "      for x, y in zip(X_train, y_train):\n",
        "\n",
        "        #x = np.float128(x)\n",
        "\n",
        "        ## Forward propagation\n",
        "        a_out, h_out, y_dash = forward_propagation(Weights, bias, x, L)\n",
        "        \n",
        "        cross_entropy_loss += -np.log(y_dash[y])\n",
        "\n",
        "        ## Backward Propagation\n",
        "        grad_W, grad_b = backward_propagation(a_out, h_out, y, y_dash, Weights, L)\n",
        "        \n",
        "        dW = [dW[i] + grad_W[i] for i in range(len(dW))]\n",
        "        dB = [dB[i] + grad_b[i] for i in range(len(dB))]\n",
        "\n",
        "        num_points_seen +=1\n",
        "\n",
        "        if num_points_seen%batch_size==0:\n",
        "          #compute intermediate values\n",
        "\n",
        "          m_w = [beta1*m_w[i] + (1-beta1)*dW[i] for i in range(len(m_w))]\n",
        "          m_b = [beta1*m_b[i] + (1-beta1)*dB[i] for i in range(len(m_b))]\n",
        "\n",
        "          v_w = [beta2*v_w[i] + (1-beta2)*(dW[i]**2) for i in range(len(dW))]\n",
        "          v_b = [beta2*v_b[i] + (1-beta2)*(dB[i]**2) for i in range(len(dB))]\n",
        "\n",
        "          m_w_hat = [m_w[i]/(1-np.power(beta1,epoch+1)) for i in range(len(m_w))]\n",
        "          m_b_hat = [m_b[i]/(1-np.power(beta1,epoch+1)) for i in range(len(m_b))]\n",
        "\n",
        "          v_w_hat = [v_w[i]/(1-np.power(beta2,epoch+1)) for i in range(len(v_w))]\n",
        "          v_b_hat = [v_b[i]/(1-np.power(beta2,epoch+1)) for i in range(len(v_b))]\n",
        "\n",
        "          # Weights updates\n",
        "          Weights = [Weights[i] - eta*m_w_hat[i]/(np.sqrt(v_w_hat[i])+eps) for i in range(len(Weights))]\n",
        "\n",
        "          # Biases updates\n",
        "          bias = [bias[i] - eta*m_b_hat[i]/(np.sqrt(v_b_hat[i])+eps) for i in range(len(Weights))]\n",
        "\n",
        "          dW = weights(3, n, L, X_train, no_of_classes)\n",
        "          dB = biases(3, n, L, y_train, no_of_classes)\n",
        "      \n",
        "      print(epoch, cross_entropy_loss)\n",
        "\n",
        "  return Weights, bias\n"
      ],
      "metadata": {
        "id": "pCvLuniEE1Z_"
      },
      "execution_count": 126,
      "outputs": []
    },
    {
      "cell_type": "code",
      "source": [
        "Weights, bias = Minibatch_Adam(Weights, bias, L, X_train, y_train, 1e-8, no_of_classes, 0.0001, 25, 0.9, 0.999, 0.1, 1)"
      ],
      "metadata": {
        "colab": {
          "base_uri": "https://localhost:8080/"
        },
        "id": "0kaWlRUbkeTw",
        "outputId": "ec331570-125a-4752-f880-4865baa3d564"
      },
      "execution_count": 127,
      "outputs": [
        {
          "output_type": "stream",
          "name": "stdout",
          "text": [
            "0 54748.154292107247223\n"
          ]
        }
      ]
    },
    {
      "cell_type": "code",
      "source": [],
      "metadata": {
        "id": "RD_lhshLj0Jk"
      },
      "execution_count": null,
      "outputs": []
    },
    {
      "cell_type": "markdown",
      "source": [
        "#NAG + Adam = NAdam Gradient descent - MiniBatch\n",
        "if batch_size = 1, the algorithm will be stochastic gradient descent. if batch_size = Number of samples, the algorithm will be vanilla gradient descent"
      ],
      "metadata": {
        "id": "nGmz0pRpBPaG"
      }
    },
    {
      "cell_type": "code",
      "source": [
        "def Minibatch_NAdam(Weights, bias, L, X_train, y_train, eps, no_of_classes, batch_size, beta1, beta2, eta, max_epoch):\n",
        "\n",
        "  m_w = weights(3, n, L, X_train, no_of_classes)\n",
        "  m_b = biases(3, n, L, y_train, no_of_classes)\n",
        "\n",
        "  v_w = weights(3, n, L, X_train, no_of_classes)\n",
        "  v_b = biases(3, n, L, y_train, no_of_classes)\n",
        "\n",
        "    \n",
        "  for epoch in range(max_epoch):\n",
        "      ## initialize the gradients of weights and biases\n",
        "      dW = weights(3, n, L, X_train, no_of_classes)\n",
        "      dB = biases(3, n, L, y_train, no_of_classes)\n",
        "\n",
        "      ## initialize the loss\n",
        "      cross_entropy_loss = 0\n",
        "      num_points_seen = 0\n",
        "\n",
        "      for x, y in zip(X_train, y_train):\n",
        "\n",
        "        #x = np.float128(x)\n",
        "\n",
        "        ## Forward propagation\n",
        "        a_out, h_out, y_dash = forward_propagation(Weights, bias, x, L)\n",
        "        \n",
        "        cross_entropy_loss += -np.log(y_dash[y])\n",
        "\n",
        "        ## Backward Propagation\n",
        "        grad_W, grad_b = backward_propagation(a_out, h_out, y, y_dash, Weights, L)\n",
        "        \n",
        "        dW = [dW[i] + grad_W[i] for i in range(len(dW))]\n",
        "        dB = [dB[i] + grad_b[i] for i in range(len(dB))]\n",
        "\n",
        "        num_points_seen +=1\n",
        "\n",
        "        if num_points_seen%batch_size==0:\n",
        "          #compute intermediate values\n",
        "\n",
        "          m_w = [beta1*m_w[i] + (1-beta1)*dW[i] for i in range(len(m_w))]\n",
        "          m_b = [beta1*m_b[i] + (1-beta1)*dB[i] for i in range(len(m_b))]\n",
        "\n",
        "          v_w = [beta2*v_w[i] + (1-beta2)*(dW[i]**2) for i in range(len(dW))]\n",
        "          v_b = [beta2*v_b[i] + (1-beta2)*(dB[i]**2) for i in range(len(dB))]\n",
        "\n",
        "          m_w_hat = [m_w[i]/(1-np.power(beta1,epoch+1)) for i in range(len(m_w))]\n",
        "          m_b_hat = [m_b[i]/(1-np.power(beta1,epoch+1)) for i in range(len(m_b))]\n",
        "\n",
        "          v_w_hat = [v_w[i]/(1-np.power(beta2,epoch+1)) for i in range(len(v_w))]\n",
        "          v_b_hat = [v_b[i]/(1-np.power(beta2,epoch+1)) for i in range(len(v_b))]\n",
        "\n",
        "          # Weights updates\n",
        "          Weights = [Weights[i] - (eta/np.sqrt(v_w_hat[i]+eps))*(beta1*m_w_hat[i]+(1-beta1)*dW[i]/(1-beta1**(epoch+1))) for i in range(len(Weights))]\n",
        "\n",
        "          # Biases updates\n",
        "          bias = [bias[i] - (eta/np.sqrt(v_b_hat[i]+eps))*(beta1*m_b_hat[i]+(1-beta1)*dB[i]/(1-beta1**(epoch+1))) for i in range(len(Weights))]\n",
        "\n",
        "          dW = weights(3, n, L, X_train, no_of_classes)\n",
        "          dB = biases(3, n, L, y_train, no_of_classes)\n",
        "      \n",
        "      print(epoch, cross_entropy_loss)\n",
        "\n",
        "  return Weights, bias\n"
      ],
      "metadata": {
        "id": "GLRgSWWOGSeZ"
      },
      "execution_count": 24,
      "outputs": []
    },
    {
      "cell_type": "code",
      "source": [
        "Weights, bias = Minibatch_NAdam(Weights, bias, L, X_train, y_train, 1e-10, no_of_classes, 25, 0.9, 0.999, 0.1, 10)"
      ],
      "metadata": {
        "colab": {
          "base_uri": "https://localhost:8080/"
        },
        "id": "KYpytPVUn4PZ",
        "outputId": "9d681941-1f41-4899-8ddb-ae67255a4677"
      },
      "execution_count": 25,
      "outputs": [
        {
          "output_type": "stream",
          "name": "stdout",
          "text": [
            "0 84607.72218064582286\n",
            "1 65691.58314440987447\n",
            "2 63625.163485619256303\n",
            "3 61345.835480034633015\n",
            "4 56382.25314378042691\n",
            "5 54782.47692052668505\n",
            "6 49958.795616479803282\n",
            "7 43365.806069021878436\n",
            "8 42394.361408850225175\n",
            "9 41293.58527524336861\n"
          ]
        }
      ]
    }
  ]
}